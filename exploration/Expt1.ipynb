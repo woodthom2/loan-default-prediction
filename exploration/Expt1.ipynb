{
 "cells": [
  {
   "cell_type": "code",
   "execution_count": 1,
   "metadata": {},
   "outputs": [],
   "source": [
    "%matplotlib inline\n",
    "import matplotlib.pyplot as plt\n",
    "import pandas as pd, numpy as np"
   ]
  },
  {
   "cell_type": "code",
   "execution_count": 2,
   "metadata": {},
   "outputs": [],
   "source": [
    "from sklearn.metrics import mean_absolute_error"
   ]
  },
  {
   "cell_type": "markdown",
   "metadata": {},
   "source": [
    "# Load the training and test data"
   ]
  },
  {
   "cell_type": "code",
   "execution_count": 3,
   "metadata": {},
   "outputs": [
    {
     "name": "stderr",
     "output_type": "stream",
     "text": [
      "/anaconda3/lib/python3.6/site-packages/IPython/core/interactiveshell.py:2785: DtypeWarning: Columns (135,204,274,417) have mixed types. Specify dtype option on import or set low_memory=False.\n",
      "  interactivity=interactivity, compiler=compiler, result=result)\n"
     ]
    }
   ],
   "source": [
    "df_train_orig = pd.read_csv(\"../data/train_v2.csv\")"
   ]
  },
  {
   "cell_type": "code",
   "execution_count": 151,
   "metadata": {},
   "outputs": [
    {
     "name": "stderr",
     "output_type": "stream",
     "text": [
      "/anaconda3/lib/python3.6/site-packages/IPython/core/interactiveshell.py:2785: DtypeWarning: Columns (417) have mixed types. Specify dtype option on import or set low_memory=False.\n",
      "  interactivity=interactivity, compiler=compiler, result=result)\n"
     ]
    }
   ],
   "source": [
    "df_test = pd.read_csv(\"../data/test_v2.csv\")"
   ]
  },
  {
   "cell_type": "code",
   "execution_count": 5,
   "metadata": {},
   "outputs": [
    {
     "data": {
      "text/plain": [
       "(105471, 771)"
      ]
     },
     "execution_count": 5,
     "metadata": {},
     "output_type": "execute_result"
    }
   ],
   "source": [
    "np.shape(df_train_orig)"
   ]
  },
  {
   "cell_type": "code",
   "execution_count": 152,
   "metadata": {},
   "outputs": [
    {
     "data": {
      "text/plain": [
       "(210944, 770)"
      ]
     },
     "execution_count": 152,
     "metadata": {},
     "output_type": "execute_result"
    }
   ],
   "source": [
    "np.shape(df_test)"
   ]
  },
  {
   "cell_type": "markdown",
   "metadata": {},
   "source": [
    "Peek at both dataframes"
   ]
  },
  {
   "cell_type": "code",
   "execution_count": 7,
   "metadata": {},
   "outputs": [
    {
     "data": {
      "text/html": [
       "<div>\n",
       "<style scoped>\n",
       "    .dataframe tbody tr th:only-of-type {\n",
       "        vertical-align: middle;\n",
       "    }\n",
       "\n",
       "    .dataframe tbody tr th {\n",
       "        vertical-align: top;\n",
       "    }\n",
       "\n",
       "    .dataframe thead th {\n",
       "        text-align: right;\n",
       "    }\n",
       "</style>\n",
       "<table border=\"1\" class=\"dataframe\">\n",
       "  <thead>\n",
       "    <tr style=\"text-align: right;\">\n",
       "      <th></th>\n",
       "      <th>id</th>\n",
       "      <th>f1</th>\n",
       "      <th>f2</th>\n",
       "      <th>f3</th>\n",
       "      <th>f4</th>\n",
       "      <th>f5</th>\n",
       "      <th>f6</th>\n",
       "      <th>f7</th>\n",
       "      <th>f8</th>\n",
       "      <th>f9</th>\n",
       "      <th>...</th>\n",
       "      <th>f770</th>\n",
       "      <th>f771</th>\n",
       "      <th>f772</th>\n",
       "      <th>f773</th>\n",
       "      <th>f774</th>\n",
       "      <th>f775</th>\n",
       "      <th>f776</th>\n",
       "      <th>f777</th>\n",
       "      <th>f778</th>\n",
       "      <th>loss</th>\n",
       "    </tr>\n",
       "  </thead>\n",
       "  <tbody>\n",
       "    <tr>\n",
       "      <th>49625</th>\n",
       "      <td>49626</td>\n",
       "      <td>145</td>\n",
       "      <td>7</td>\n",
       "      <td>0.412953</td>\n",
       "      <td>5300</td>\n",
       "      <td>7</td>\n",
       "      <td>79754</td>\n",
       "      <td>467.0</td>\n",
       "      <td>4004.0</td>\n",
       "      <td>152.69</td>\n",
       "      <td>...</td>\n",
       "      <td>5</td>\n",
       "      <td>2.45</td>\n",
       "      <td>-2.06</td>\n",
       "      <td>1.79</td>\n",
       "      <td>0.2880</td>\n",
       "      <td>0.6471</td>\n",
       "      <td>0</td>\n",
       "      <td>1</td>\n",
       "      <td>4</td>\n",
       "      <td>0</td>\n",
       "    </tr>\n",
       "    <tr>\n",
       "      <th>73599</th>\n",
       "      <td>73600</td>\n",
       "      <td>153</td>\n",
       "      <td>8</td>\n",
       "      <td>0.213561</td>\n",
       "      <td>4100</td>\n",
       "      <td>3</td>\n",
       "      <td>14002</td>\n",
       "      <td>5211.0</td>\n",
       "      <td>4448.0</td>\n",
       "      <td>152.40</td>\n",
       "      <td>...</td>\n",
       "      <td>7</td>\n",
       "      <td>3.10</td>\n",
       "      <td>-2.27</td>\n",
       "      <td>1.69</td>\n",
       "      <td>0.2058</td>\n",
       "      <td>1.0304</td>\n",
       "      <td>1</td>\n",
       "      <td>1</td>\n",
       "      <td>20</td>\n",
       "      <td>0</td>\n",
       "    </tr>\n",
       "    <tr>\n",
       "      <th>13197</th>\n",
       "      <td>13198</td>\n",
       "      <td>129</td>\n",
       "      <td>9</td>\n",
       "      <td>0.339997</td>\n",
       "      <td>1300</td>\n",
       "      <td>17</td>\n",
       "      <td>79884</td>\n",
       "      <td>7723.0</td>\n",
       "      <td>2697.0</td>\n",
       "      <td>128.00</td>\n",
       "      <td>...</td>\n",
       "      <td>2</td>\n",
       "      <td>0.45</td>\n",
       "      <td>-0.24</td>\n",
       "      <td>0.13</td>\n",
       "      <td>0.0937</td>\n",
       "      <td>-2.0622</td>\n",
       "      <td>1</td>\n",
       "      <td>0</td>\n",
       "      <td>394</td>\n",
       "      <td>0</td>\n",
       "    </tr>\n",
       "    <tr>\n",
       "      <th>82226</th>\n",
       "      <td>82227</td>\n",
       "      <td>154</td>\n",
       "      <td>9</td>\n",
       "      <td>0.057141</td>\n",
       "      <td>3900</td>\n",
       "      <td>7</td>\n",
       "      <td>6075</td>\n",
       "      <td>3646.0</td>\n",
       "      <td>177.0</td>\n",
       "      <td>154.00</td>\n",
       "      <td>...</td>\n",
       "      <td>2</td>\n",
       "      <td>1.04</td>\n",
       "      <td>-0.75</td>\n",
       "      <td>0.55</td>\n",
       "      <td>0.0400</td>\n",
       "      <td>2.9860</td>\n",
       "      <td>1</td>\n",
       "      <td>1</td>\n",
       "      <td>9</td>\n",
       "      <td>0</td>\n",
       "    </tr>\n",
       "    <tr>\n",
       "      <th>84814</th>\n",
       "      <td>84815</td>\n",
       "      <td>121</td>\n",
       "      <td>9</td>\n",
       "      <td>0.149691</td>\n",
       "      <td>2700</td>\n",
       "      <td>4</td>\n",
       "      <td>80421</td>\n",
       "      <td>4063.0</td>\n",
       "      <td>1127.0</td>\n",
       "      <td>123.37</td>\n",
       "      <td>...</td>\n",
       "      <td>35</td>\n",
       "      <td>12.43</td>\n",
       "      <td>-8.62</td>\n",
       "      <td>6.14</td>\n",
       "      <td>0.2210</td>\n",
       "      <td>0.7394</td>\n",
       "      <td>0</td>\n",
       "      <td>0</td>\n",
       "      <td>49</td>\n",
       "      <td>0</td>\n",
       "    </tr>\n",
       "    <tr>\n",
       "      <th>28078</th>\n",
       "      <td>28079</td>\n",
       "      <td>129</td>\n",
       "      <td>9</td>\n",
       "      <td>0.540135</td>\n",
       "      <td>1800</td>\n",
       "      <td>16</td>\n",
       "      <td>79391</td>\n",
       "      <td>398.0</td>\n",
       "      <td>1552.0</td>\n",
       "      <td>129.41</td>\n",
       "      <td>...</td>\n",
       "      <td>33</td>\n",
       "      <td>11.31</td>\n",
       "      <td>-8.16</td>\n",
       "      <td>6.22</td>\n",
       "      <td>0.2741</td>\n",
       "      <td>0.7219</td>\n",
       "      <td>0</td>\n",
       "      <td>0</td>\n",
       "      <td>1079</td>\n",
       "      <td>0</td>\n",
       "    </tr>\n",
       "    <tr>\n",
       "      <th>44998</th>\n",
       "      <td>44999</td>\n",
       "      <td>148</td>\n",
       "      <td>9</td>\n",
       "      <td>0.034415</td>\n",
       "      <td>4700</td>\n",
       "      <td>4</td>\n",
       "      <td>78238</td>\n",
       "      <td>607.0</td>\n",
       "      <td>317.0</td>\n",
       "      <td>146.22</td>\n",
       "      <td>...</td>\n",
       "      <td>38</td>\n",
       "      <td>10.63</td>\n",
       "      <td>-7.63</td>\n",
       "      <td>5.89</td>\n",
       "      <td>0.2727</td>\n",
       "      <td>-0.6887</td>\n",
       "      <td>0</td>\n",
       "      <td>1</td>\n",
       "      <td>3</td>\n",
       "      <td>0</td>\n",
       "    </tr>\n",
       "    <tr>\n",
       "      <th>52518</th>\n",
       "      <td>52519</td>\n",
       "      <td>120</td>\n",
       "      <td>10</td>\n",
       "      <td>0.938908</td>\n",
       "      <td>1800</td>\n",
       "      <td>17</td>\n",
       "      <td>8563</td>\n",
       "      <td>1175.0</td>\n",
       "      <td>1894.0</td>\n",
       "      <td>120.74</td>\n",
       "      <td>...</td>\n",
       "      <td>7</td>\n",
       "      <td>1.23</td>\n",
       "      <td>-0.97</td>\n",
       "      <td>0.84</td>\n",
       "      <td>0.3145</td>\n",
       "      <td>-1.0406</td>\n",
       "      <td>1</td>\n",
       "      <td>0</td>\n",
       "      <td>394</td>\n",
       "      <td>0</td>\n",
       "    </tr>\n",
       "    <tr>\n",
       "      <th>65533</th>\n",
       "      <td>65534</td>\n",
       "      <td>158</td>\n",
       "      <td>8</td>\n",
       "      <td>0.482686</td>\n",
       "      <td>5300</td>\n",
       "      <td>4</td>\n",
       "      <td>76136</td>\n",
       "      <td>28.0</td>\n",
       "      <td>303.0</td>\n",
       "      <td>157.75</td>\n",
       "      <td>...</td>\n",
       "      <td>18</td>\n",
       "      <td>6.43</td>\n",
       "      <td>-4.68</td>\n",
       "      <td>3.63</td>\n",
       "      <td>0.2653</td>\n",
       "      <td>0.7103</td>\n",
       "      <td>0</td>\n",
       "      <td>1</td>\n",
       "      <td>12</td>\n",
       "      <td>0</td>\n",
       "    </tr>\n",
       "    <tr>\n",
       "      <th>62703</th>\n",
       "      <td>62704</td>\n",
       "      <td>162</td>\n",
       "      <td>8</td>\n",
       "      <td>0.108093</td>\n",
       "      <td>3600</td>\n",
       "      <td>10</td>\n",
       "      <td>14002</td>\n",
       "      <td>5091.0</td>\n",
       "      <td>4256.0</td>\n",
       "      <td>157.00</td>\n",
       "      <td>...</td>\n",
       "      <td>2</td>\n",
       "      <td>1.37</td>\n",
       "      <td>-1.15</td>\n",
       "      <td>0.99</td>\n",
       "      <td>0.1123</td>\n",
       "      <td>1.7324</td>\n",
       "      <td>1</td>\n",
       "      <td>1</td>\n",
       "      <td>31</td>\n",
       "      <td>0</td>\n",
       "    </tr>\n",
       "  </tbody>\n",
       "</table>\n",
       "<p>10 rows × 771 columns</p>\n",
       "</div>"
      ],
      "text/plain": [
       "          id   f1  f2        f3    f4  f5     f6      f7      f8      f9  \\\n",
       "49625  49626  145   7  0.412953  5300   7  79754   467.0  4004.0  152.69   \n",
       "73599  73600  153   8  0.213561  4100   3  14002  5211.0  4448.0  152.40   \n",
       "13197  13198  129   9  0.339997  1300  17  79884  7723.0  2697.0  128.00   \n",
       "82226  82227  154   9  0.057141  3900   7   6075  3646.0   177.0  154.00   \n",
       "84814  84815  121   9  0.149691  2700   4  80421  4063.0  1127.0  123.37   \n",
       "28078  28079  129   9  0.540135  1800  16  79391   398.0  1552.0  129.41   \n",
       "44998  44999  148   9  0.034415  4700   4  78238   607.0   317.0  146.22   \n",
       "52518  52519  120  10  0.938908  1800  17   8563  1175.0  1894.0  120.74   \n",
       "65533  65534  158   8  0.482686  5300   4  76136    28.0   303.0  157.75   \n",
       "62703  62704  162   8  0.108093  3600  10  14002  5091.0  4256.0  157.00   \n",
       "\n",
       "       ...   f770   f771  f772  f773    f774    f775  f776  f777  f778  loss  \n",
       "49625  ...      5   2.45 -2.06  1.79  0.2880  0.6471     0     1     4     0  \n",
       "73599  ...      7   3.10 -2.27  1.69  0.2058  1.0304     1     1    20     0  \n",
       "13197  ...      2   0.45 -0.24  0.13  0.0937 -2.0622     1     0   394     0  \n",
       "82226  ...      2   1.04 -0.75  0.55  0.0400  2.9860     1     1     9     0  \n",
       "84814  ...     35  12.43 -8.62  6.14  0.2210  0.7394     0     0    49     0  \n",
       "28078  ...     33  11.31 -8.16  6.22  0.2741  0.7219     0     0  1079     0  \n",
       "44998  ...     38  10.63 -7.63  5.89  0.2727 -0.6887     0     1     3     0  \n",
       "52518  ...      7   1.23 -0.97  0.84  0.3145 -1.0406     1     0   394     0  \n",
       "65533  ...     18   6.43 -4.68  3.63  0.2653  0.7103     0     1    12     0  \n",
       "62703  ...      2   1.37 -1.15  0.99  0.1123  1.7324     1     1    31     0  \n",
       "\n",
       "[10 rows x 771 columns]"
      ]
     },
     "execution_count": 7,
     "metadata": {},
     "output_type": "execute_result"
    }
   ],
   "source": [
    "df_train_orig.sample(10)"
   ]
  },
  {
   "cell_type": "code",
   "execution_count": 8,
   "metadata": {},
   "outputs": [
    {
     "data": {
      "text/html": [
       "<div>\n",
       "<style scoped>\n",
       "    .dataframe tbody tr th:only-of-type {\n",
       "        vertical-align: middle;\n",
       "    }\n",
       "\n",
       "    .dataframe tbody tr th {\n",
       "        vertical-align: top;\n",
       "    }\n",
       "\n",
       "    .dataframe thead th {\n",
       "        text-align: right;\n",
       "    }\n",
       "</style>\n",
       "<table border=\"1\" class=\"dataframe\">\n",
       "  <thead>\n",
       "    <tr style=\"text-align: right;\">\n",
       "      <th></th>\n",
       "      <th>id</th>\n",
       "      <th>f1</th>\n",
       "      <th>f2</th>\n",
       "      <th>f3</th>\n",
       "      <th>f4</th>\n",
       "      <th>f5</th>\n",
       "      <th>f6</th>\n",
       "      <th>f7</th>\n",
       "      <th>f8</th>\n",
       "      <th>f9</th>\n",
       "      <th>...</th>\n",
       "      <th>f769</th>\n",
       "      <th>f770</th>\n",
       "      <th>f771</th>\n",
       "      <th>f772</th>\n",
       "      <th>f773</th>\n",
       "      <th>f774</th>\n",
       "      <th>f775</th>\n",
       "      <th>f776</th>\n",
       "      <th>f777</th>\n",
       "      <th>f778</th>\n",
       "    </tr>\n",
       "  </thead>\n",
       "  <tbody>\n",
       "    <tr>\n",
       "      <th>113807</th>\n",
       "      <td>219279</td>\n",
       "      <td>131</td>\n",
       "      <td>8</td>\n",
       "      <td>0.115148</td>\n",
       "      <td>2200</td>\n",
       "      <td>16.0</td>\n",
       "      <td>1078</td>\n",
       "      <td>1899.0</td>\n",
       "      <td>4694.0</td>\n",
       "      <td>129.90</td>\n",
       "      <td>...</td>\n",
       "      <td>-6.89</td>\n",
       "      <td>13</td>\n",
       "      <td>5.15</td>\n",
       "      <td>-3.99</td>\n",
       "      <td>3.18</td>\n",
       "      <td>0.3395</td>\n",
       "      <td>0.8636</td>\n",
       "      <td>0</td>\n",
       "      <td>0</td>\n",
       "      <td>1079</td>\n",
       "    </tr>\n",
       "    <tr>\n",
       "      <th>117526</th>\n",
       "      <td>222998</td>\n",
       "      <td>120</td>\n",
       "      <td>10</td>\n",
       "      <td>0.257952</td>\n",
       "      <td>1500</td>\n",
       "      <td>10.0</td>\n",
       "      <td>2497</td>\n",
       "      <td>178.0</td>\n",
       "      <td>1599.0</td>\n",
       "      <td>118.06</td>\n",
       "      <td>...</td>\n",
       "      <td>-7.45</td>\n",
       "      <td>15</td>\n",
       "      <td>4.60</td>\n",
       "      <td>-3.01</td>\n",
       "      <td>2.03</td>\n",
       "      <td>0.2449</td>\n",
       "      <td>0.9140</td>\n",
       "      <td>1</td>\n",
       "      <td>0</td>\n",
       "      <td>10</td>\n",
       "    </tr>\n",
       "    <tr>\n",
       "      <th>210579</th>\n",
       "      <td>316051</td>\n",
       "      <td>126</td>\n",
       "      <td>9</td>\n",
       "      <td>0.054116</td>\n",
       "      <td>5300</td>\n",
       "      <td>7.0</td>\n",
       "      <td>8563</td>\n",
       "      <td>2924.0</td>\n",
       "      <td>959.0</td>\n",
       "      <td>124.51</td>\n",
       "      <td>...</td>\n",
       "      <td>-9.31</td>\n",
       "      <td>39</td>\n",
       "      <td>12.57</td>\n",
       "      <td>-2.31</td>\n",
       "      <td>0.32</td>\n",
       "      <td>0.3009</td>\n",
       "      <td>1.9318</td>\n",
       "      <td>0</td>\n",
       "      <td>0</td>\n",
       "      <td>393</td>\n",
       "    </tr>\n",
       "    <tr>\n",
       "      <th>174772</th>\n",
       "      <td>280244</td>\n",
       "      <td>123</td>\n",
       "      <td>8</td>\n",
       "      <td>0.109674</td>\n",
       "      <td>4600</td>\n",
       "      <td>4.0</td>\n",
       "      <td>80684</td>\n",
       "      <td>111.0</td>\n",
       "      <td>2685.0</td>\n",
       "      <td>154.65</td>\n",
       "      <td>...</td>\n",
       "      <td>-6.99</td>\n",
       "      <td>16</td>\n",
       "      <td>9.14</td>\n",
       "      <td>-13.67</td>\n",
       "      <td>0.08</td>\n",
       "      <td>0.2414</td>\n",
       "      <td>-0.5100</td>\n",
       "      <td>1</td>\n",
       "      <td>1</td>\n",
       "      <td>11</td>\n",
       "    </tr>\n",
       "    <tr>\n",
       "      <th>156752</th>\n",
       "      <td>262224</td>\n",
       "      <td>119</td>\n",
       "      <td>11</td>\n",
       "      <td>0.307381</td>\n",
       "      <td>3100</td>\n",
       "      <td>15.0</td>\n",
       "      <td>76635</td>\n",
       "      <td>3.0</td>\n",
       "      <td>175.0</td>\n",
       "      <td>120.07</td>\n",
       "      <td>...</td>\n",
       "      <td>-21.85</td>\n",
       "      <td>12</td>\n",
       "      <td>21.90</td>\n",
       "      <td>-0.72</td>\n",
       "      <td>0.18</td>\n",
       "      <td>0.2955</td>\n",
       "      <td>-1.4365</td>\n",
       "      <td>1</td>\n",
       "      <td>0</td>\n",
       "      <td>37</td>\n",
       "    </tr>\n",
       "    <tr>\n",
       "      <th>137824</th>\n",
       "      <td>243296</td>\n",
       "      <td>126</td>\n",
       "      <td>9</td>\n",
       "      <td>0.351225</td>\n",
       "      <td>1500</td>\n",
       "      <td>4.0</td>\n",
       "      <td>86892</td>\n",
       "      <td>58.0</td>\n",
       "      <td>698.0</td>\n",
       "      <td>120.06</td>\n",
       "      <td>...</td>\n",
       "      <td>-6.00</td>\n",
       "      <td>14</td>\n",
       "      <td>3.54</td>\n",
       "      <td>-2.33</td>\n",
       "      <td>1.63</td>\n",
       "      <td>0.2630</td>\n",
       "      <td>0.4073</td>\n",
       "      <td>1</td>\n",
       "      <td>0</td>\n",
       "      <td>10</td>\n",
       "    </tr>\n",
       "    <tr>\n",
       "      <th>191806</th>\n",
       "      <td>297278</td>\n",
       "      <td>132</td>\n",
       "      <td>8</td>\n",
       "      <td>0.192284</td>\n",
       "      <td>4400</td>\n",
       "      <td>2.0</td>\n",
       "      <td>84598</td>\n",
       "      <td>1617.0</td>\n",
       "      <td>684.0</td>\n",
       "      <td>114.44</td>\n",
       "      <td>...</td>\n",
       "      <td>-8.83</td>\n",
       "      <td>21</td>\n",
       "      <td>21.67</td>\n",
       "      <td>-1.61</td>\n",
       "      <td>0.11</td>\n",
       "      <td>0.2827</td>\n",
       "      <td>0.5682</td>\n",
       "      <td>0</td>\n",
       "      <td>1</td>\n",
       "      <td>73</td>\n",
       "    </tr>\n",
       "    <tr>\n",
       "      <th>21918</th>\n",
       "      <td>127390</td>\n",
       "      <td>128</td>\n",
       "      <td>9</td>\n",
       "      <td>0.329164</td>\n",
       "      <td>1100</td>\n",
       "      <td>4.0</td>\n",
       "      <td>78802</td>\n",
       "      <td>534.0</td>\n",
       "      <td>1531.0</td>\n",
       "      <td>114.63</td>\n",
       "      <td>...</td>\n",
       "      <td>-8.30</td>\n",
       "      <td>6</td>\n",
       "      <td>8.00</td>\n",
       "      <td>-10.84</td>\n",
       "      <td>0.03</td>\n",
       "      <td>0.2990</td>\n",
       "      <td>1.2585</td>\n",
       "      <td>0</td>\n",
       "      <td>1</td>\n",
       "      <td>54</td>\n",
       "    </tr>\n",
       "    <tr>\n",
       "      <th>112855</th>\n",
       "      <td>218327</td>\n",
       "      <td>155</td>\n",
       "      <td>8</td>\n",
       "      <td>0.371594</td>\n",
       "      <td>2200</td>\n",
       "      <td>10.0</td>\n",
       "      <td>10529</td>\n",
       "      <td>8990.0</td>\n",
       "      <td>2281.0</td>\n",
       "      <td>153.13</td>\n",
       "      <td>...</td>\n",
       "      <td>-1.25</td>\n",
       "      <td>11</td>\n",
       "      <td>2.84</td>\n",
       "      <td>-2.01</td>\n",
       "      <td>3.17</td>\n",
       "      <td>0.0921</td>\n",
       "      <td>-19.5622</td>\n",
       "      <td>1</td>\n",
       "      <td>0</td>\n",
       "      <td>49</td>\n",
       "    </tr>\n",
       "    <tr>\n",
       "      <th>200570</th>\n",
       "      <td>306042</td>\n",
       "      <td>126</td>\n",
       "      <td>1</td>\n",
       "      <td>0.278611</td>\n",
       "      <td>3100</td>\n",
       "      <td>10.0</td>\n",
       "      <td>83241</td>\n",
       "      <td>5688.0</td>\n",
       "      <td>2405.0</td>\n",
       "      <td>133.69</td>\n",
       "      <td>...</td>\n",
       "      <td>-5.85</td>\n",
       "      <td>6</td>\n",
       "      <td>16.96</td>\n",
       "      <td>-3.35</td>\n",
       "      <td>0.41</td>\n",
       "      <td>0.2293</td>\n",
       "      <td>-0.5134</td>\n",
       "      <td>0</td>\n",
       "      <td>1</td>\n",
       "      <td>1079</td>\n",
       "    </tr>\n",
       "  </tbody>\n",
       "</table>\n",
       "<p>10 rows × 770 columns</p>\n",
       "</div>"
      ],
      "text/plain": [
       "            id   f1  f2        f3    f4    f5     f6      f7      f8      f9  \\\n",
       "113807  219279  131   8  0.115148  2200  16.0   1078  1899.0  4694.0  129.90   \n",
       "117526  222998  120  10  0.257952  1500  10.0   2497   178.0  1599.0  118.06   \n",
       "210579  316051  126   9  0.054116  5300   7.0   8563  2924.0   959.0  124.51   \n",
       "174772  280244  123   8  0.109674  4600   4.0  80684   111.0  2685.0  154.65   \n",
       "156752  262224  119  11  0.307381  3100  15.0  76635     3.0   175.0  120.07   \n",
       "137824  243296  126   9  0.351225  1500   4.0  86892    58.0   698.0  120.06   \n",
       "191806  297278  132   8  0.192284  4400   2.0  84598  1617.0   684.0  114.44   \n",
       "21918   127390  128   9  0.329164  1100   4.0  78802   534.0  1531.0  114.63   \n",
       "112855  218327  155   8  0.371594  2200  10.0  10529  8990.0  2281.0  153.13   \n",
       "200570  306042  126   1  0.278611  3100  10.0  83241  5688.0  2405.0  133.69   \n",
       "\n",
       "        ...    f769  f770   f771   f772  f773    f774     f775  f776  f777  \\\n",
       "113807  ...   -6.89    13   5.15  -3.99  3.18  0.3395   0.8636     0     0   \n",
       "117526  ...   -7.45    15   4.60  -3.01  2.03  0.2449   0.9140     1     0   \n",
       "210579  ...   -9.31    39  12.57  -2.31  0.32  0.3009   1.9318     0     0   \n",
       "174772  ...   -6.99    16   9.14 -13.67  0.08  0.2414  -0.5100     1     1   \n",
       "156752  ...  -21.85    12  21.90  -0.72  0.18  0.2955  -1.4365     1     0   \n",
       "137824  ...   -6.00    14   3.54  -2.33  1.63  0.2630   0.4073     1     0   \n",
       "191806  ...   -8.83    21  21.67  -1.61  0.11  0.2827   0.5682     0     1   \n",
       "21918   ...   -8.30     6   8.00 -10.84  0.03  0.2990   1.2585     0     1   \n",
       "112855  ...   -1.25    11   2.84  -2.01  3.17  0.0921 -19.5622     1     0   \n",
       "200570  ...   -5.85     6  16.96  -3.35  0.41  0.2293  -0.5134     0     1   \n",
       "\n",
       "        f778  \n",
       "113807  1079  \n",
       "117526    10  \n",
       "210579   393  \n",
       "174772    11  \n",
       "156752    37  \n",
       "137824    10  \n",
       "191806    73  \n",
       "21918     54  \n",
       "112855    49  \n",
       "200570  1079  \n",
       "\n",
       "[10 rows x 770 columns]"
      ]
     },
     "execution_count": 8,
     "metadata": {},
     "output_type": "execute_result"
    }
   ],
   "source": [
    "df_test.sample(10)"
   ]
  },
  {
   "cell_type": "code",
   "execution_count": 9,
   "metadata": {},
   "outputs": [
    {
     "data": {
      "text/plain": [
       "''"
      ]
     },
     "execution_count": 9,
     "metadata": {},
     "output_type": "execute_result"
    },
    {
     "data": {
      "image/png": "[encoded data removed]",
      "text/plain": [
       "<Figure size 432x288 with 1 Axes>"
      ]
     },
     "metadata": {},
     "output_type": "display_data"
    }
   ],
   "source": [
    "plt.hist(df_train_orig.loss, range=(0,100), bins=100)\n",
    "plt.xlabel(\"loss\")\n",
    ";"
   ]
  },
  {
   "cell_type": "markdown",
   "metadata": {},
   "source": [
    "What proportion of transactions have loss?"
   ]
  },
  {
   "cell_type": "code",
   "execution_count": 75,
   "metadata": {},
   "outputs": [
    {
     "data": {
      "text/plain": [
       "0.09275535455243622"
      ]
     },
     "execution_count": 75,
     "metadata": {},
     "output_type": "execute_result"
    }
   ],
   "source": [
    "len(df_train_orig[df_train_orig.loss != 0]) / len(df_train_orig)"
   ]
  },
  {
   "cell_type": "markdown",
   "metadata": {},
   "source": [
    "The vast majority of transactions have no loss"
   ]
  },
  {
   "cell_type": "code",
   "execution_count": 10,
   "metadata": {},
   "outputs": [
    {
     "data": {
      "text/plain": [
       "Text(0.5,0,'loss')"
      ]
     },
     "execution_count": 10,
     "metadata": {},
     "output_type": "execute_result"
    },
    {
     "data": {
      "image/png": "[encoded data removed]",
      "text/plain": [
       "<Figure size 432x288 with 1 Axes>"
      ]
     },
     "metadata": {},
     "output_type": "display_data"
    }
   ],
   "source": [
    "plt.hist(df_train_orig.loss, range=(1,100), bins=99);\n",
    "plt.title(\"the transactions with loss\")\n",
    "plt.xlabel(\"loss\")"
   ]
  },
  {
   "cell_type": "markdown",
   "metadata": {},
   "source": [
    "## Sanity check re target MAE values\n",
    "\n",
    "Get an idea for what the MAE would be for some useless baseline predictions, such as always predicting 0.\n",
    "\n",
    "Clearly I am using the entire training set here as it's just exploration"
   ]
  },
  {
   "cell_type": "code",
   "execution_count": 11,
   "metadata": {},
   "outputs": [],
   "source": [
    "baseline_prediction = np.zeros((len(df_train_orig), ))"
   ]
  },
  {
   "cell_type": "code",
   "execution_count": 12,
   "metadata": {},
   "outputs": [
    {
     "data": {
      "text/plain": [
       "0.7995847199704184"
      ]
     },
     "execution_count": 12,
     "metadata": {},
     "output_type": "execute_result"
    }
   ],
   "source": [
    "mean_absolute_error(df_train_orig.loss, baseline_prediction)"
   ]
  },
  {
   "cell_type": "code",
   "execution_count": 13,
   "metadata": {},
   "outputs": [],
   "source": [
    "baseline_prediction = np.ones((len(df_train_orig), )) * df_train_orig.loss.mean()"
   ]
  },
  {
   "cell_type": "code",
   "execution_count": 14,
   "metadata": {},
   "outputs": [
    {
     "data": {
      "text/plain": [
       "1.4508379115497037"
      ]
     },
     "execution_count": 14,
     "metadata": {},
     "output_type": "execute_result"
    }
   ],
   "source": [
    "mean_absolute_error(df_train_orig.loss, baseline_prediction)"
   ]
  },
  {
   "cell_type": "code",
   "execution_count": 15,
   "metadata": {},
   "outputs": [],
   "source": [
    "baseline_prediction = np.ones((len(df_train_orig), ))"
   ]
  },
  {
   "cell_type": "code",
   "execution_count": 16,
   "metadata": {},
   "outputs": [
    {
     "data": {
      "text/plain": [
       "1.614074010865546"
      ]
     },
     "execution_count": 16,
     "metadata": {},
     "output_type": "execute_result"
    }
   ],
   "source": [
    "mean_absolute_error(df_train_orig.loss, baseline_prediction)"
   ]
  },
  {
   "cell_type": "markdown",
   "metadata": {},
   "source": [
    "# Evaluate via a method that can be constant throughout the project"
   ]
  },
  {
   "cell_type": "code",
   "execution_count": 17,
   "metadata": {},
   "outputs": [],
   "source": [
    "from evaluator import evaluate"
   ]
  },
  {
   "cell_type": "code",
   "execution_count": 18,
   "metadata": {},
   "outputs": [
    {
     "data": {
      "text/plain": [
       "1.614074010865546"
      ]
     },
     "execution_count": 18,
     "metadata": {},
     "output_type": "execute_result"
    }
   ],
   "source": [
    "evaluate(df_train_orig, baseline_prediction)"
   ]
  },
  {
   "cell_type": "markdown",
   "metadata": {},
   "source": [
    "# Investigate features\n",
    "\n",
    "Want to see how the distributions look for each feature"
   ]
  },
  {
   "cell_type": "code",
   "execution_count": 19,
   "metadata": {},
   "outputs": [],
   "source": [
    "feature_cols = [c for c in df_train_orig.columns if c.startswith(\"f\")]"
   ]
  },
  {
   "cell_type": "markdown",
   "metadata": {},
   "source": [
    "There are some non float values"
   ]
  },
  {
   "cell_type": "code",
   "execution_count": 20,
   "metadata": {},
   "outputs": [],
   "source": [
    "def clean_up(x):\n",
    "    if type(x) == float or type(x) == int:\n",
    "        return x\n",
    "    return 0\n",
    "for c in feature_cols:\n",
    "    df_train_orig[c] = df_train_orig[c].apply(clean_up)"
   ]
  },
  {
   "cell_type": "code",
   "execution_count": 155,
   "metadata": {},
   "outputs": [],
   "source": [
    "for c in feature_cols:\n",
    "    df_test[c] = df_test[c].apply(clean_up)"
   ]
  },
  {
   "cell_type": "code",
   "execution_count": 21,
   "metadata": {},
   "outputs": [],
   "source": [
    "df_train_orig.fillna(0, inplace=True)"
   ]
  },
  {
   "cell_type": "code",
   "execution_count": 156,
   "metadata": {},
   "outputs": [],
   "source": [
    "df_test.fillna(0, inplace=True)"
   ]
  },
  {
   "cell_type": "code",
   "execution_count": 22,
   "metadata": {},
   "outputs": [
    {
     "name": "stdout",
     "output_type": "stream",
     "text": [
      "f1 103 176 134.60317053976922\n",
      "f2 1 11 8.246883029458335\n",
      "f3 6.392000000000001e-06 0.999993798 0.4990662571074348\n",
      "f4 1100 7900 2678.488873718842\n",
      "f5 1 17 7.354533473656265\n",
      "f6 0 88565 47993.70431682643\n",
      "f7 0.0 9968.0 2969.203525139612\n",
      "f8 0.0 11541.0 2434.030634013141\n",
      "f9 106.82 172.95 134.5552250381802\n",
      "f10 103.14 175.27 134.5968619810192\n",
      "f13 2 40 11.349015369153607\n",
      "f14 0.0 1.0 0.6954601027771191\n",
      "f15 0.0 1.0 0.6778317547003582\n",
      "f16 0 70378726 4010386.4710015077\n",
      "f17 0.0 1.0 0.6725569692142953\n",
      "f18 0.0 1.0 0.6493344805681129\n",
      "f19 0.0 1.0 0.510624718643036\n",
      "f20 0.0 1.0 0.6828378113415395\n",
      "f21 0.0 1.0 0.7331760009860719\n",
      "f22 0.0 1.0 0.7148542452427952\n",
      "f23 0.0 15630489600.0 2994454953.6685157\n",
      "f24 0 126 82.17980297901794\n",
      "f25 0 184 63.420561102103896\n",
      "f26 0.0 2603664.0 1101587.4161333446\n",
      "f27 0.0 218.73 92.13428070275255\n",
      "f28 0.0 160.49 86.4906830313539\n",
      "f29 0.0 220.63 103.85093912070349\n",
      "f30 0.0 159.9 91.6729333181605\n",
      "f31 0.0 126.0 89.44972551696675\n",
      "f32 0.0 1.0 0.8398039773966988\n",
      "f33 0 0 0.0\n",
      "f34 0 0 0.0\n",
      "f35 0 0 0.0\n",
      "f36 2 168 17.422571133297303\n",
      "f37 0 0 0.0\n",
      "f38 0 0 0.0\n",
      "f39 0.0 0.9558 0.6451425927506121\n",
      "f40 0.0 0.99172 0.6487599048079813\n",
      "f41 0.0 0.9712 0.6328970558352552\n",
      "f42 0.0 169.0 17.40759071213888\n",
      "f43 0.0 0.490415 0.14240016199713698\n",
      "f44 -22.64188 28.273814 -0.44220275267135856\n",
      "f45 0.0 1.0 0.7324342667652752\n",
      "f46 0.0 1.0 0.731964086715774\n",
      "f47 0.0 1.0 0.7425681147234827\n",
      "f48 0.0 163.0 16.7238767054451\n",
      "f49 0.0 0.97 0.6742961079348785\n",
      "f50 0.0 1.0 0.6772742710318935\n",
      "f51 0.0 0.9808 0.6645529985872936\n",
      "f52 0.0 169.0 17.399095485962967\n",
      "f53 0.0 0.5 0.14482188201496146\n",
      "f54 -22.64188 24.520585 -0.5391371821638171\n",
      "f55 0.0 0.92155 0.5054821941576376\n",
      "f56 0.0 0.99 0.5099705938125139\n",
      "f57 0.0 0.9615 0.4899728501578584\n",
      "f58 0.0 169.0 17.40759071213888\n",
      "f59 0.0 0.97545 0.7138723810336421\n",
      "f60 0.0 1.0 0.7139684938988142\n",
      "f61 0.0 0.9712 0.7217415290364245\n",
      "f62 0.0 169.0 16.782859743436585\n",
      "f63 0.0 1.0 0.8521520147718749\n",
      "f64 0.0 1.0 0.850354611883907\n",
      "f65 0.0 1.0 0.8627477332916254\n",
      "f66 0.0 0.5 0.12355932284703827\n",
      "f67 0.0 26.3747 8.064019393957043\n",
      "f68 0 30 10.821012410994491\n",
      "f69 -0.26 0.4 0.0013336367342682116\n",
      "f70 -0.31 0.42 0.0019645210531804617\n",
      "f71 0.0 1.0 0.08371634762162328\n",
      "f72 -1.0 94.58 0.8335633491670729\n",
      "f73 1 11 8.355491082856899\n",
      "f74 2 169 17.424059694133934\n",
      "f75 0.0 52.62 6.245338908325468\n",
      "f76 0.0 89.62 6.234002142769133\n",
      "f77 0.0 25.0 6.607429625204361\n",
      "f78 0.0 67645.0 18938.835831650405\n",
      "f79 0.0 627041.0 176535.51141071954\n",
      "f80 -1.26 2.13 0.9581576926357724\n",
      "f81 -3.32 3.54 1.4927041556447027\n",
      "f82 0.0 1.0 0.10561348617168032\n",
      "f83 0.0 1.0 0.09853760749400889\n",
      "f84 0.0 1.0 0.0935390770922946\n",
      "f85 0.0 2081.0 315.41785893752785\n",
      "f86 0.0 2081.0 315.41785893752785\n",
      "f87 0.0 2081.0 315.41785893752785\n",
      "f88 0.0 2081.0 315.41785893752785\n",
      "f89 0.0 0.5 0.2823328687507254\n",
      "f90 -0.88 2.3 1.4006043367369436\n",
      "f91 0.0 3.4 1.7284160574943999\n",
      "f92 0.0 0.98 0.10536915360633022\n",
      "f93 0.0 1.0 0.09785979084298653\n",
      "f94 0.0 1.0 0.0927652150828479\n",
      "f95 0.0 1364.0 303.0110836154014\n",
      "f96 0.0 1364.0 303.0110836154014\n",
      "f97 0.0 1364.0 303.0110836154014\n",
      "f98 0.0 1364.0 303.0110836154014\n",
      "f99 0.0 0.5 0.28377677276225066\n",
      "f100 -0.88 2.13 1.3950744754482567\n",
      "f101 0.0 3.12 1.7152293995507333\n",
      "f102 0.0 0.99 0.10504574717233389\n",
      "f103 0.0 1.0 0.09743446065743835\n",
      "f104 0.0 1.0 0.09266992822676216\n",
      "f105 0.0 1094.0 292.06419774155927\n",
      "f106 0.0 1094.0 292.06419774155927\n",
      "f107 0.0 1094.0 292.06419774155927\n",
      "f108 0.0 1094.0 292.06419774155927\n",
      "f109 0.0 0.5 0.28549648718612797\n",
      "f110 -1.06 2.5 1.3942922699127627\n",
      "f111 0.0 3.85 1.7105346493347955\n",
      "f112 0.0 1.0 0.20226280209722614\n",
      "f113 0.0 1.0 0.1963973983369882\n",
      "f114 0.0 1.0 0.18642043784546347\n",
      "f115 0.0 3445.0 618.4289425529292\n",
      "f116 0.0 3445.0 618.4289425529292\n",
      "f117 0.0 3445.0 618.4289425529292\n",
      "f118 0.0 3445.0 618.4289425529292\n",
      "f119 0.0 0.5 0.37945805008019867\n",
      "f120 -1.14 2.12 1.16468602743843\n",
      "f121 0.0 3.12 1.3854114401115605\n",
      "f122 0.0 1.0 0.2991337903309133\n",
      "f123 0.0 1.0 0.29383185899441927\n",
      "f124 0.0 1.0 0.2791841359236061\n",
      "f125 0.0 4481.0 910.4931402944885\n",
      "f126 0.0 4481.0 910.4931402944885\n",
      "f127 0.0 4481.0 910.4931402944885\n",
      "f128 0.0 4481.0 910.4931402944885\n",
      "f129 0.0 0.5 0.43879236946642347\n",
      "f130 -1.25 1.94 0.9676603995410786\n",
      "f131 0.0 2.67 1.1949003043489403\n",
      "f132 0.0 790235.53 1174.6804693233219\n",
      "f133 0.0 670712.69 1144.2537373306639\n",
      "f134 0.0 84165.82 1037.9911942619253\n",
      "f135 0.0 70861658.0 4006030.335295958\n",
      "f136 0.0 33900000000000.0 331888301463.0209\n",
      "f137 0.0 7.28e+18 2.6992451841140324e+16\n",
      "f138 0.0 0.0 0.0\n",
      "f139 0.0 229355.94 4364.603921267467\n",
      "f140 -0.89 3.7 2.1776664675595816\n",
      "f141 0.0 7.63 3.6311197390748937\n",
      "f142 0.0 55.28 6.08747105839507\n",
      "f143 0.0 90.5 6.061283480767322\n",
      "f144 0.0 40.0 6.375138284457504\n",
      "f145 0.0 49283.0 1499.3966398346465\n",
      "f146 0.0 547951.0 14544.39539778707\n",
      "f147 0.0 12812715.0 217535.2924785012\n",
      "f148 0.0 1251476859.0 6709413.161105896\n",
      "f149 -2.67 2.31 0.7575063287538636\n",
      "f150 -4.56 5.33 1.3216775227313882\n",
      "f151 0.0 1.0 0.10288022299978132\n",
      "f152 0.0 1.0 0.09748158261513151\n",
      "f153 0.0 1.0 0.09964625347252366\n",
      "f154 0.0 1168.0 33.27460628988063\n",
      "f155 0.0 1168.0 33.27460628988063\n",
      "f156 0.0 1168.0 33.27460628988063\n",
      "f157 0.0 1168.0 33.27460628988063\n",
      "f158 0.0 0.5 0.25079718595635847\n",
      "f159 -1.36 2.89 1.128596106986588\n",
      "f160 0.0 4.69 1.4059912203355478\n",
      "f161 0.0 1.0 0.10361805614822987\n",
      "f162 0.0 1.0 0.09814508253454106\n",
      "f163 0.0 1.0 0.09648102321966284\n",
      "f164 0.0 941.0 28.34714755714841\n",
      "f165 0.0 941.0 28.34714755714841\n",
      "f166 0.0 941.0 28.34714755714841\n",
      "f167 0.0 941.0 28.34714755714841\n",
      "f168 0.0 0.5 0.25068085066039475\n",
      "f169 -1.39 2.33 1.1341062472147052\n",
      "f170 0.0 3.54 1.4056007812574782\n",
      "f171 0.0 1.0 0.10376018052365217\n",
      "f172 0.0 1.0 0.098539977813812\n",
      "f173 0.0 1.0 0.09570554939273629\n",
      "f174 0.0 846.0 25.821287368091703\n",
      "f175 0.0 846.0 25.821287368091703\n",
      "f176 0.0 846.0 25.821287368091703\n",
      "f177 0.0 846.0 25.821287368091703\n",
      "f178 0.0 0.5 0.2532174721013722\n",
      "f179 -1.14 2.39 1.152409098235372\n",
      "f180 0.0 3.61 1.425924946193755\n",
      "f181 0.0 1.0 0.20007442804179834\n",
      "f182 0.0 1.0 0.19562666514966748\n",
      "f183 0.0 1.0 0.19600705407173896\n",
      "f184 0.0 2109.0 61.62175384702904\n",
      "f185 0.0 2109.0 61.62175384702904\n",
      "f186 0.0 2109.0 61.62175384702904\n",
      "f187 0.0 2109.0 61.62175384702904\n",
      "f188 0.0 0.5 0.34564003375337615\n",
      "f189 -1.39 2.89 0.9766545306290358\n",
      "f190 0.0 4.69 1.2234732770145786\n",
      "f191 0.0 1.0 0.2975373325368243\n",
      "f192 0.0 1.0 0.2941666429634737\n",
      "f193 0.0 1.0 0.29160015549299517\n",
      "f194 0.0 2955.0 87.44304121512074\n",
      "f195 0.0 2955.0 87.44304121512074\n",
      "f196 0.0 2955.0 87.44304121512074\n",
      "f197 0.0 2955.0 87.44304121512074\n",
      "f198 0.0 0.5 0.40243175849290963\n",
      "f199 -1.58 1.99 0.7774235571862665\n",
      "f200 0.0 2.78 1.1068449147158157\n",
      "f201 0.0 755299.57 1183.7898059181675\n",
      "f202 0.0 1248716.57 1195.4750259313125\n",
      "f203 0.0 362385.5 1212.608927667303\n",
      "f204 0.0 61722247.0 755019.5035886642\n",
      "f205 0.0 33300000000000.0 172971387665.88992\n",
      "f206 0.0 9.05e+18 6164291775902125.0\n",
      "f207 0.0 0.0 0.0\n",
      "f208 0.0 396156.57 3530.4965140180943\n",
      "f209 -1.14 3.49 1.3956663917096301\n",
      "f210 0.0 7.03 1.9424090982355255\n",
      "f211 0.0 53.3 6.298458154374186\n",
      "f212 0.0 90.12 6.285999279422754\n",
      "f213 0.0 29.0 6.648722871690159\n",
      "f214 0.0 68861.0 15465.872799158062\n",
      "f215 0.0 619441.0 145952.61831214267\n",
      "f216 0.0 22596886.0 1829008.3793839065\n",
      "f217 0.0 2211946354.0 34029934.79836164\n",
      "f218 0.0 23.77 4.30941784945583\n",
      "f219 -1.05 2.2 0.9876608736050142\n",
      "f220 -2.99 3.77 1.519925477145396\n",
      "f221 0.0 1.0 0.10427368660592451\n",
      "f222 0.0 1.0 0.096757876572713\n",
      "f223 0.0 1.0 0.09593035052290236\n",
      "f224 0.0 1462.0 266.78431037915635\n",
      "f225 0.0 1462.0 266.78431037915635\n",
      "f226 0.0 1462.0 266.78431037915635\n",
      "f227 0.0 1462.0 266.78431037915635\n",
      "f228 0.0 0.5 0.28381223274646206\n",
      "f229 -1.06 2.7 1.4121330981974927\n",
      "f230 0.0 4.25 1.748154753439272\n",
      "f231 0.0 1.0 0.10440907927310278\n",
      "f232 0.0 1.0 0.09681315243053214\n",
      "f233 0.0 1.0 0.09494202197763363\n",
      "f234 0.0 1366.0 254.99436812014676\n",
      "f235 0.0 1366.0 254.99436812014676\n",
      "f236 0.0 1366.0 254.99436812014676\n",
      "f237 0.0 1366.0 254.99436812014676\n",
      "f238 0.0 0.5 0.2866095893658522\n",
      "f239 -0.88 2.7 1.4038668449145644\n",
      "f240 0.0 4.25 1.7288479297627015\n",
      "f241 0.0 0.96 0.10484967431818544\n",
      "f242 0.0 1.0 0.0974430886215231\n",
      "f243 0.0 1.0 0.09410131694973267\n",
      "f244 0.0 1240.0 244.93610565937556\n",
      "f245 0.0 1240.0 244.93610565937556\n",
      "f246 0.0 1240.0 244.93610565937556\n",
      "f247 0.0 1240.0 244.93610565937556\n",
      "f248 0.0 0.5 0.2880983398280943\n",
      "f249 -1.06 2.3 1.4019858539311651\n",
      "f250 0.0 3.4 1.7209210114626046\n",
      "f251 0.0 1.0 0.1998504802267573\n",
      "f252 0.0 1.0 0.19357102900323706\n",
      "f253 0.0 1.0 0.1902747674716183\n",
      "f254 0.0 2740.0 521.7786784993032\n",
      "f255 0.0 2740.0 521.7786784993032\n",
      "f256 0.0 2740.0 521.7786784993032\n",
      "f257 0.0 2740.0 521.7786784993032\n",
      "f258 0.0 0.5 0.38100416228154976\n",
      "f259 -1.08 2.21 1.167286078637417\n",
      "f260 0.0 3.21 1.394530060395854\n",
      "f261 0.0 1.0 0.2964632932274364\n",
      "f262 0.0 1.0 0.2910141176247518\n",
      "f263 0.0 1.0 0.2842968209271248\n",
      "f264 0.0 3980.0 766.7147841586786\n",
      "f265 0.0 3980.0 766.7147841586786\n",
      "f266 0.0 3980.0 766.7147841586786\n",
      "f267 0.0 3980.0 766.7147841586786\n",
      "f268 0.0 0.5 0.43946032558717224\n",
      "f269 -1.36 2.2 0.9650941965088662\n",
      "f270 0.0 3.21 1.201886205686868\n",
      "f271 0.0 755300.45 1170.267971480322\n",
      "f272 0.0 1248716.57 1168.252677418473\n",
      "f273 0.0 230099.0 1118.7739407988852\n",
      "f274 0.0 67636004.0 3597745.948649392\n",
      "f275 0.0 35000000000000.0 305608796658.5039\n",
      "f276 0.0 6.23e+18 1.1482721907577882e+16\n",
      "f277 0.0 0.0 0.0\n",
      "f278 0.0 223898.06 4617.039549070371\n",
      "f279 -1.03 3.6 2.1021440016687487\n",
      "f280 0.0 7.11 3.412382929905099\n",
      "f281 1.0 75.69 6.068440614007315\n",
      "f282 1.0 98.07 6.062650491604471\n",
      "f283 1.0 54.5 5.962867992149638\n",
      "f284 2 1175 102.46914317679742\n",
      "f285 2 20415 896.9162234168634\n",
      "f286 2 1947935 10750.185159901774\n",
      "f287 2 192193227 218774.63548273934\n",
      "f288 0.0 45.5 3.2709451887247054\n"
     ]
    },
    {
     "name": "stdout",
     "output_type": "stream",
     "text": [
      "f289 -2.67 2.45 0.563453935204938\n",
      "f290 0.0 1.0 0.10929677352073901\n",
      "f291 0.0 1.0 0.10559129997819802\n",
      "f292 0.0 1.0 0.11339913341107748\n",
      "f293 0 23 2.0377828976685533\n",
      "f294 0 23 2.0377828976685533\n",
      "f295 0 23 2.0377828976685533\n",
      "f296 0 23 2.0377828976685533\n",
      "f297 0.0 0.5 0.22826416740149938\n",
      "f298 0.0 1.0 0.10924358354434589\n",
      "f299 0.0 1.0 0.10534232158603352\n",
      "f300 0.0 1.0 0.11039916185491813\n",
      "f301 0 25 2.0056508424116584\n",
      "f302 0 25 2.0056508424116584\n",
      "f303 0 25 2.0056508424116584\n",
      "f304 0 25 2.0056508424116584\n",
      "f305 0.0 0.5 0.22473011538719842\n",
      "f306 0.0 1.0 0.10793450332324099\n",
      "f307 0.0 1.0 0.1041528951086134\n",
      "f308 0.0 1.0 0.10647021456134984\n",
      "f309 0 26 1.9207933934446435\n",
      "f310 0 26 1.9207933934446435\n",
      "f311 0 26 1.9207933934446435\n",
      "f312 0 26 1.9207933934446435\n",
      "f313 0.0 0.5 0.22348266348099013\n",
      "f314 0.0 1.0 0.2148014146068329\n",
      "f315 0.0 1.0 0.21093362156422943\n",
      "f316 0.0 1.0 0.2235875264290956\n",
      "f317 0 40 4.043433740080212\n",
      "f318 0 40 4.043433740080212\n",
      "f319 0 40 4.043433740080212\n",
      "f320 0 40 4.043433740080212\n",
      "f321 0.0 0.5 0.3235385082155759\n",
      "f322 0.0 1.0 0.3189015938030048\n",
      "f323 0.0 1.0 0.3150865166728343\n",
      "f324 0.0 1.0 0.3299024376369214\n",
      "f325 0 53 5.964227133524855\n",
      "f326 0 53 5.964227133524855\n",
      "f327 0 53 5.964227133524855\n",
      "f328 0 53 5.964227133524855\n",
      "f329 0.0 0.5 0.37582747864351146\n",
      "f330 -1.58 2.05 0.4774564572252556\n",
      "f331 0.0 2.9 0.9641285282208716\n",
      "f332 0.0 1078829.63 1212.8289105060194\n",
      "f333 0.0 1885059.88 1264.3563710403982\n",
      "f334 0.0 458505.0 1146.1961560997452\n",
      "f335 0 2292525 20209.878573257105\n",
      "f336 0 4360000000000 663565105.8189455\n",
      "f337 0 9040000000000000000 393289301867931.94\n",
      "f338 0 0 0.0\n",
      "f339 0.0 813183.96 1730.5917224639509\n",
      "f340 -1.28 2.06 0.9735075044325276\n",
      "f341 -4.49 3.09 1.3123321102482695\n",
      "f342 0.0 202.6 91.43602421519071\n",
      "f343 0.0 214.757 92.04722718092981\n",
      "f344 0.0 173.69333 89.46456684453528\n",
      "f345 2 169 17.424059694133934\n",
      "f346 0.0 252803183.17200002 19119760.55893725\n",
      "f347 0.0 46264004974.242004 2251148410.06363\n",
      "f348 0.0 94.65122 21.44524588275479\n",
      "f349 -31.66978 3.0603700000000003 -0.6049825434479666\n",
      "f350 -15.41779 161.04171000000002 1.306965125295047\n",
      "f351 0.0 153.325 85.97876795517469\n",
      "f352 0.0 159.02100000000002 86.42515247793054\n",
      "f353 0.0 135.25333 84.68001203098417\n",
      "f354 2 169 17.424059694133934\n",
      "f355 0.0 15638760646.568998 1547731527.4530184\n",
      "f356 0.0 73.24457 18.767742149785438\n",
      "f357 -33.33302 4.50516 -0.6200652065496697\n",
      "f358 -27.182109999999998 173.89113 1.3128256362411743\n",
      "f359 0.0 192.175 102.95991827137404\n",
      "f360 0.0 215.507 103.7364315309407\n",
      "f361 0.0 182.565 100.38966050895513\n",
      "f362 2 169 17.424059694133934\n",
      "f363 0.0 264868940.363 26381971.178260725\n",
      "f364 0.0 43724583051.374 3399259394.597922\n",
      "f365 0.0 94.22228 26.529841881465334\n",
      "f366 -33.13019 10.67654 -0.32711932208853683\n",
      "f367 -51.27608 172.30881000000002 1.290606438167791\n",
      "f368 0.0 147.15 91.07625380436309\n",
      "f369 0.0 157.68 91.59538370736902\n",
      "f370 0.0 136.955 89.50791484265847\n",
      "f371 2 169 17.424059694133934\n",
      "f372 0.0 18951169846.343998 1913819399.0918381\n",
      "f373 0.0 71.77457 20.582373205904755\n",
      "f374 -33.55001 10.94668 -0.5117224293881794\n",
      "f375 -53.2344 175.58722 1.3124024845691562\n",
      "f376 0.0 179.37 63.563781323775885\n",
      "f377 0.0 183.33 63.446474196700386\n",
      "f378 0.0 159.5455 64.2538805880283\n",
      "f379 2 169 17.424059694133934\n",
      "f380 0 1117910 90681.10794436386\n",
      "f381 0 156468616 7796117.199116345\n",
      "f382 0 22347022226 723818992.7668458\n",
      "f383 0.0 80.2294 18.412803703387688\n",
      "f384 -2.2888 2.2229 -0.6844762901650682\n",
      "f385 -7.777 8.0233 1.26939490950121\n",
      "f386 0.0 14124521742.55 2917789287.6427245\n",
      "f387 0.0 15317486454.92 2960771858.323836\n",
      "f388 0.0 11129340193.89 2775626692.2851377\n",
      "f389 0.0 169.0 17.121549999525936\n",
      "f390 0.0 0.0 0.0\n",
      "f391 0.0 0.0 0.0\n",
      "f392 0.0 3776596285.31 620963188.5494609\n",
      "f393 -913.76 575.99 -0.2914848631377347\n",
      "f394 -14612.92 20274.09 6.236671312492525\n",
      "f395 0.0 1.0 0.08309491518995975\n",
      "f396 0.0 1.0 0.07896338804031718\n",
      "f397 0.0 1.0 0.10317362213309673\n",
      "f398 0.0 1.0 0.1325058783931099\n",
      "f399 0.0 1.0 0.09788372253984516\n",
      "f400 1 99 6.0625100738591655\n",
      "f401 0.0 17265784643.0 3201020065.2186003\n",
      "f402 0.0 10.218 0.5556116183595499\n",
      "f403 1 20 7.428989959325312\n",
      "f404 0.06 1.0 0.5285879530866228\n",
      "f405 0.037000000000000005 1.0 0.5287085359956943\n",
      "f406 0.055 1.0 0.5080286239535049\n",
      "f407 0.11 94.52 8.63643930559111\n",
      "f408 2 168 17.422571133297303\n",
      "f409 0.0061 66.638 5.6625294242018605\n",
      "f410 0.0003 52.1508 4.2593359368926444\n",
      "f411 0.0 43.2804 3.4582264385470993\n",
      "f412 -7.1400369999999995 6.8366 0.2161072624512901\n",
      "f413 -21.525374 21.697698000000003 1.0958177364204298\n",
      "f414 0.0 1902677.44 19035.164339110095\n",
      "f415 0.0 2207781.16 20069.88291710645\n",
      "f416 0.0 900788.5 10493.209877691364\n",
      "f417 2 169 17.424059694133934\n",
      "f418 0 24000000000000 38304653174.23359\n",
      "f419 0 17765535174584000512 1.0579245569467424e+16\n",
      "f420 0 0 0.0\n",
      "f421 0.0 885300.79 6584.085509476656\n",
      "f422 -1.8 1.72 -0.004984308482900497\n",
      "f423 1.0 76.75 5.990148050175025\n",
      "f424 1.0 58.95 5.965814726322864\n",
      "f425 1.0 76.75 6.034958903395223\n",
      "f426 2.0 1224.09 103.13505228925453\n",
      "f427 2 169 17.424059694133934\n",
      "f428 2.0 29992.47 683.0408093219926\n",
      "f429 2.0 1878958.55 5379.522999876479\n",
      "f430 2.0 143344643.43 77424.35853391756\n",
      "f431 0.0 27.1683 1.118618866797503\n",
      "f432 -1.8555 2.4738 0.15936316807463832\n",
      "f433 -6.9063 5.0955 1.17134417138362\n",
      "f434 0.0 31.25 6.600910155397647\n",
      "f435 0.0 24.25 6.596070000284026\n",
      "f436 0.0 8.75 0.45647838837215854\n",
      "f437 0.0 70468.29 19541.227945122133\n",
      "f438 0.0 498760.33 130578.12940684905\n",
      "f439 0.0 9968.0 2969.203487214495\n",
      "f440 0.0 3534262.15 885665.9602715586\n",
      "f441 0.0 31.25 6.831417378236745\n",
      "f442 0.0 31.0 5.992515430781899\n",
      "f443 0.0 49.71 5.9580476434281096\n",
      "f444 0.0 22.4972 2.2872935091162376\n",
      "f445 2.93 60909.36 16783.975525310318\n",
      "f446 8.58 439967.8 120000.84123749696\n",
      "f447 1 9353 2714.205525689526\n",
      "f448 -11.7301 39.2277 1.023338854282223\n",
      "f449 25.15 3620319.12 998939.3537160838\n",
      "f450 2.0 22.7133 6.422218867745549\n",
      "f451 -100.2025 36.1848 1.6173595585516172\n",
      "f452 0.0 2080.98 315.3220764949107\n",
      "f453 0.0 2081.0 315.40699026261433\n",
      "f454 0.0 600.31 91.06932796692999\n",
      "f455 0.0 9205608.0 843942.5077983522\n",
      "f456 0.0 13157136654.0 476568314.76527196\n",
      "f457 0.0 9968.0 2969.203525139612\n",
      "f458 -2.06 2.21 0.07589972599102517\n",
      "f459 0.0 20900000000000.0 395490784434.7988\n",
      "f460 0.0 1102.34 154.52403532724728\n",
      "f461 0.0 3.5e+16 427440666269211.3\n",
      "f464 0.0 19120101.05 1175291.7873214362\n",
      "f465 0 202000000000 10685688479.256374\n",
      "f466 0.0 9.62e+18 1.1855571600644824e+17\n",
      "f467 1 9969 2970.203525139612\n",
      "f468 -13.13 41.15 0.11796806705161118\n",
      "f469 0 0 0.0\n",
      "f470 0.0 38142949.78 1900438.6599724973\n",
      "f471 0.0 50.63 1.1652816413987082\n",
      "f472 0 0 0.0\n",
      "f475 0.0 1304.42 263.0651264328585\n",
      "f476 0.0 19390157.0 2393494.804571873\n",
      "f477 0 59227517770 3462463040.3343573\n",
      "f478 1 9969 2970.203525139612\n",
      "f479 -1.81 2.4 0.06879417090953983\n",
      "f480 0 201000000000000 6664126737533.977\n",
      "f481 0.0 2321.62 446.152416588451\n",
      "f482 0.0 7.26e+17 1.5385459540863386e+16\n",
      "f483 0.0 3444.48 618.2365371523548\n",
      "f484 0.0 3444.9 618.407214400135\n",
      "f485 0.0 999.5 178.28438262650582\n",
      "f486 0.0 15030208.0 1639114.164832039\n",
      "f487 0.0 35394154434.0 1689995660.441363\n",
      "f488 0.0 9968.0 2969.203525139612\n",
      "f489 -2.14 1.85 0.11182239667777145\n",
      "f490 0.0 92700000000000.0 2404082996583.1216\n",
      "f491 0.0 1799.81 302.87253595774547\n",
      "f492 0.0 2.57e+17 4235881965266569.5\n",
      "f493 0.0 1363.5 302.91550644247997\n",
      "f494 0.0 1363.9 303.0002241373326\n",
      "f495 0.0 399.43 87.33423509780008\n",
      "f496 0.0 5824600.0 795171.657033687\n",
      "f497 0.0 5394828212.0 377942835.59347117\n",
      "f498 0.0 9968.0 2969.203525139612\n",
      "f499 -2.44 2.11 0.10492211129124576\n",
      "f500 0.0 5590000000000.0 234817278912.57605\n",
      "f501 0.0 697.47 148.34851532648796\n",
      "f502 0.0 6140000000000000.0 171717838190052.66\n",
      "f503 0.0 1094.0 291.9689571540535\n",
      "f504 0.0 1094.0 292.053357889746\n",
      "f505 0.0 304.69 84.35575617942342\n",
      "f506 0.0 4429095.0 754380.6397398337\n",
      "f507 0.0 3206236841.0 322502619.87645894\n",
      "f508 0.0 9968.0 2969.203525139612\n",
      "f509 -2.63 2.05 0.1287713210266255\n",
      "f510 0.0 2600000000000.0 173773750611.18124\n",
      "f511 0.0 557.33 143.41662817267235\n",
      "f512 0.0 2240000000000000.0 106797834914863.75\n",
      "f513 0.0 1.16405 0.7016986900664548\n",
      "f514 0.0 152.208 87.87017690170796\n",
      "f515 0.0 0.6486 0.00501676005726662\n",
      "f516 0.0 30.14 5.996119359824088\n",
      "f517 0.0 49.6 5.962188630049927\n",
      "f518 0.0 21.5927 2.3291761005395135\n",
      "f519 2.67 56364.78 13362.694767092293\n",
      "f520 7.13 371442.51 93917.61207526304\n",
      "f521 1 10292 2214.9154269894093\n",
      "f522 -11.7301 13.9566 1.0327719136065943\n",
      "f523 19.03 4287022.12 777122.4211695144\n",
      "f524 2.6513 18.96 6.3693006333494395\n",
      "f525 -32.1152 36.1848 1.614843908752147\n",
      "f526 50.82 226701829.08 8963543.191284835\n",
      "f527 0.0 67634213.37 3597748.008795842\n",
      "f528 0.0 67643725.94 3598791.9118872616\n",
      "f529 0.0 18230512.07 1057181.4756985402\n",
      "f530 0 142000000000 8741902946.317945\n",
      "f531 0 7190000000000000000 9.710690188860986e+16\n",
      "f532 1 11542 2435.0879388647118\n",
      "f533 -13.52 16.68 0.08658067146419518\n",
      "f534 0 0 0.0\n",
      "f535 0.0 43977313.8 1774967.623329252\n",
      "f536 0.0 20.86 1.1630057551360604\n",
      "f537 0 0 0.0\n",
      "f538 0.0 1461.75 266.6900808752839\n",
      "f539 0.0 1461.99 266.7736148324397\n",
      "f540 0.0 421.57 77.09352713068024\n",
      "f541 0.0 7502512.0 631974.0643778859\n",
      "f542 0.0 6608972746.0 330931137.0683316\n",
      "f543 0.0 11541.0 2434.0643020356306\n",
      "f544 0.0 7150000000000.0 238272928249.2384\n",
      "f545 0.0 735.21 132.92010628513964\n",
      "f546 -1.49 2.87 1.156893458865116\n",
      "f547 0.0 8350000000000000.0 204309738423889.1\n",
      "f548 0.0 1366.0 254.90006504155383\n",
      "f549 0.0 1366.0 254.98370424091252\n",
      "f550 0.0 389.11 73.75238700685536\n",
      "f551 0.0 7677152.0 601276.1658939425\n",
      "f552 0.0 6854277540.0 293757389.39313173\n",
      "f553 0.0 11541.0 2434.0643020356306\n",
      "f554 0.0 6950000000000.0 198200193389.80396\n",
      "f555 0.0 665.21 126.57476377392818\n",
      "f556 -0.73 3.26 1.156701273335734\n",
      "f557 0.0 7550000000000000.0 159914992790905.0\n",
      "f558 0.0 1239.81 244.84135421109278\n",
      "f559 0.0 1239.99 244.92537825557724\n",
      "f560 0.0 358.64 70.70206672924301\n",
      "f561 0.0 7169227.0 570587.2011263759\n",
      "f562 0.0 5937899703.0 259518688.45144162\n",
      "f563 0.0 11541.0 2434.0643020356306\n",
      "f564 0.0 5530000000000.0 163377255636.6164\n",
      "f565 0.0 621.2 121.3935373704623\n",
      "f566 -1.23 3.28 1.1565911956837902\n",
      "f567 0.0 5500000000000000.0 123391863313474.77\n",
      "f568 0.0 2739.94 521.5890989939925\n"
     ]
    },
    {
     "name": "stdout",
     "output_type": "stream",
     "text": [
      "f569 0.0 2740.0 521.7573190734125\n",
      "f570 0.0 776.42 150.72099733576167\n",
      "f571 0.0 15179664.0 1233250.230195978\n",
      "f572 0.0 26922729364.0 1241826031.6121304\n",
      "f573 0.0 11541.0 2434.0643020356306\n",
      "f574 0.0 54300000000000.0 1716710656058.7185\n",
      "f575 0.0 1331.41 259.4948612414816\n",
      "f576 0.0 1.18e+17 2822104181000230.5\n",
      "f577 0.0 3979.74 766.4287576678571\n",
      "f578 0.0 3979.99 766.6826973291408\n",
      "f579 0.0 1134.74 221.28635293113817\n",
      "f580 0.0 22348891.0 1803837.4313223541\n",
      "f581 0.0 58138829943.0 2623716238.7267118\n",
      "f582 0.0 11541.0 2434.0643020356306\n",
      "f583 0.0 171000000000000.0 5240187766142.491\n",
      "f584 0.0 1936.48 380.8884116012892\n",
      "f585 0.0 5.41e+17 1.246577824520854e+16\n",
      "f586 -1.0 14170.0 15.38629756046718\n",
      "f587 -1.0 14138.0 15.685033042257846\n",
      "f588 -1.0 163.0 0.09410435095903262\n",
      "f589 0.0 1.0 0.0728149643029884\n",
      "f590 0.0 1.0 0.017785242388899173\n",
      "f591 0.0 0.6143 0.003623947340974938\n",
      "f592 0.0 0.64374 0.0046107501588136994\n",
      "f593 0.0 0.23742199999999997 0.002680313612272683\n",
      "f594 0.0 9.7343 0.08733764067848147\n",
      "f595 0.0 3.4975 0.002149002095362796\n",
      "f596 0.1 18.375 5.6182085122927745\n",
      "f597 1 40 10.648367797783276\n",
      "f598 0.07400000000000001 19.509 5.625922329360753\n",
      "f599 1 40 10.648367797783276\n",
      "f600 -0.92 9.26 0.02586208531255058\n",
      "f601 -0.96 14.35 0.09234035896123206\n",
      "f604 0.0 3.0 0.006258307970910739\n",
      "f606 0.0 64858.585 18303.168881398855\n",
      "f607 0.0 439537.68799999997 120489.31875186827\n",
      "f608 0.0 9966.0 2962.3647258488113\n",
      "f609 -5.192494 13.5711 0.910904211091204\n",
      "f610 0.0 3102699.347 845923.8858197768\n",
      "f611 0.0 16.5 6.411903372519495\n",
      "f612 -50.530976 27.380345000000002 1.5037589540726775\n",
      "f613 -0.93 12.2 0.02387642100672183\n",
      "f614 -0.96 18.71 0.08622464942970157\n",
      "f615 -0.06 3.0 0.00399455774573062\n",
      "f616 -1.0 3.0 0.004469190583192995\n",
      "f617 -0.13 1.22 0.0020915701946506307\n",
      "f618 0.0 110.86 0.42261313536419726\n",
      "f619 0.0 68.47 0.22755231295806227\n",
      "f620 -0.51 6.0 0.01738449431597457\n",
      "f621 -0.36 6.0 0.014536412852823697\n",
      "f622 0.0 14832574060.06 3121904635.4737954\n",
      "f623 0.0 16419658836.24 3165710744.0050373\n",
      "f624 0.0 11698493140.5 2968596180.1068316\n",
      "f625 0.0 169.0 17.11940723042353\n",
      "f626 0.0 0.0 0.0\n",
      "f627 0.0 0.0 0.0\n",
      "f628 0.0 3915508657.95 676878937.5905386\n",
      "f629 0.0 7.8375 0.5557889135402102\n",
      "f630 0.0 9.2562 0.5530817807738521\n",
      "f631 0.0 12.94913 0.5590892493671293\n",
      "f632 0.0 114.333 8.239999478529628\n",
      "f633 0.0 169.0 17.388523859639143\n",
      "f634 0.0 2954.825 9.195015189009263\n",
      "f635 0.0 90780.935 25.72725348199974\n",
      "f636 0.0 2825152.937 345.6206191180487\n",
      "f637 0.0 15.773279999999998 0.42447977055305003\n",
      "f638 -35.02472 40.25031 0.7041523792321969\n",
      "f639 -104.03289000000001 53.873369999999994 1.2811773784263012\n",
      "f640 0.0 152.499 81.4202753173856\n",
      "f641 0.0 1.09638 0.6978230726929562\n",
      "f642 0.0 1.137484 0.7011387882925204\n",
      "f643 0.0 1.10532 0.6835796019408198\n",
      "f644 0.0 169.0 17.405495349432545\n",
      "f645 0.0 0.541705 0.15931011991258226\n",
      "f646 -14.2129427 11.3887614 -0.38079519402395107\n",
      "f647 -37.2172612 44.599500799999994 1.213360578485096\n",
      "f648 -1.0 679.8 0.5976483583165032\n",
      "f649 -1.0 1435.11 2.1643529501000223\n",
      "f650 -1.0 98.06 0.20222573029553176\n",
      "f651 -1.0 102.37 0.8649936949493315\n",
      "f652 0.0 999.0 50.80734988764684\n",
      "f653 0.0 186.0 68.51689089892008\n",
      "f654 0.0 723.0 51.974334746042246\n",
      "f655 0.0 936.36 50.969057940098025\n",
      "f656 7 3703 757.8676128983323\n",
      "f657 25 2015293 130600.16672829498\n",
      "f658 91 1881715765 48196081.66270349\n",
      "f659 337 1830000000000 26363771700.22466\n",
      "f660 -3.28 4.67 1.0694860198537863\n",
      "f661 -9.88 6.67 1.4850165448321124\n",
      "f662 0.0 184.4 64.93569284447814\n",
      "f663 0.0 186.0 64.81779038787555\n",
      "f664 0.0 173.1111 71.09649973736845\n",
      "f665 0.0 12269.0 1133.605730485157\n",
      "f666 0.0 168.0 14.69653269619137\n",
      "f667 0.0 1269927.0 93629.93550833878\n",
      "f668 0.0 183159369.0 8278836.324847588\n",
      "f669 0.0 49.5 4.224456029619457\n",
      "f670 0 5872 768.7278967678319\n",
      "f671 0.0 1.0 0.10674625062813288\n",
      "f672 -1.0 130.59 0.6192417821012406\n",
      "f673 -1.0 410.11 1.2628870495207207\n",
      "f674 3 222 32.223274644214996\n",
      "f675 0.0 34.0 5.978183576528145\n",
      "f676 0.0 1.0 0.5289738411505953\n",
      "f677 0.0 40.0 6.428724483507315\n",
      "f678 0.0 0.0 0.0\n",
      "f679 0.0 7.0 2.114969991751287\n",
      "f680 0.0 495.5 64.13921115756938\n",
      "f681 1 169 17.535919826302965\n",
      "f682 3.5 723.0 54.25967697281437\n",
      "f683 0.0 15412.0 1621.290436138843\n",
      "f684 0.0 1614841.794 171683.36569795536\n",
      "f685 0.0 15412.0 1542.687668269018\n",
      "f686 0.0 1459144.0 151607.18766333046\n",
      "f687 0.0 144846186.0 15178425.293230124\n",
      "f688 0.0 16889.78 1807.9425154781907\n",
      "f689 0.0 2008228.875 213638.88691742285\n",
      "f690 0.0 16089.42 1625.754743104705\n",
      "f691 0.0 1581590.3090000001 168550.9691146684\n",
      "f692 0.0 167019124.194 17804553.99080285\n",
      "f693 0 11775 1152.6700609646252\n",
      "f694 0.0 634000000000.0 50593494487.388275\n",
      "f695 0.0 0.0 0.0\n",
      "f696 0.0 0.475 0.2332532456030628\n",
      "f697 0.0 606000000000.0 47164930112.81462\n",
      "f698 0.0 0.0 0.0\n",
      "f699 0 45421130 380137.2740184506\n",
      "f700 0 0 0.0\n",
      "f701 0 0 0.0\n",
      "f702 0 0 0.0\n",
      "f703 0.0 130.3102 11.784471333352215\n",
      "f704 0.0 103.2086 8.989538133704864\n",
      "f705 0.0 85.5973 6.986759133790333\n",
      "f706 0.0 135.1771 13.146300640934557\n",
      "f707 0.0 131.4601 12.260586433237787\n",
      "f708 0.0 106.197 9.601155824823765\n",
      "f709 0.0 89.648 7.628685671890942\n",
      "f710 0.0 99.4352 9.319217096642781\n",
      "f711 0.0 136.3923 12.838526096272822\n",
      "f712 0.0 152.0004 14.97982484379572\n",
      "f713 0.0 169.0 16.89559215329332\n",
      "f714 0.0 138.661 13.852846398536181\n",
      "f715 73.7 313407206.42 10802460.215252377\n",
      "f716 0.0 4.810071 1.3993039429416767\n",
      "f717 0.0 54898206.6438 6425317.203369492\n",
      "f718 0.0 143.95522 12.766340243099984\n",
      "f719 0.0 126.02758 10.59598899081281\n",
      "f720 0.0 111.74683999999999 8.992436128983284\n",
      "f721 0.0 100.18585 7.752632448066283\n",
      "f722 3 170 18.424059694133934\n",
      "f723 0.0 1.4662 0.00020396222658360908\n",
      "f724 0.0 0.7961 4.9467626172123144e-05\n",
      "f725 0 6 3.0503266300689287\n",
      "f726 0.0 26708749755.0 782018037.5611874\n",
      "f727 109.6 169.89 134.26936579724233\n",
      "f728 331 20989 2448.016601719904\n",
      "f729 3 170 18.424059694133934\n",
      "f730 36525 2622178 328831.8133989438\n",
      "f731 4030957 332831281 44678938.50646149\n",
      "f732 444920097 51564128073 6142992835.132226\n",
      "f733 0.0 17.3 4.865927506138888\n",
      "f734 -26.64 41.07 0.33380474253583964\n",
      "f735 0.0 26137495.34 6101257.927590523\n",
      "f736 1 1 1.0\n",
      "f737 -18.54 28.265 0.2866731139365311\n",
      "f738 -24.215 36.943000000000005 0.3273709171241401\n",
      "f739 -10.585999999999999 9.605 0.14696897630628294\n",
      "f740 -513.65 405.67 6.618006276606836\n",
      "f741 3 170 18.424059694133934\n",
      "f742 0.0 22560.76 645.8767129353483\n",
      "f743 -152191.19 342289.21 2436.7119673654342\n",
      "f744 0.0 13486567.01 135490.86811985378\n",
      "f745 0.0 14.9099 4.1920352988026135\n",
      "f746 -1.4257 1.5234 -0.03975532516047046\n",
      "f747 0.0 72.9903 5.4974421784187095\n",
      "f748 0.0 116.404 11.04979018118722\n",
      "f749 0.0 103.1941 9.388388084876413\n",
      "f750 0.0 91.8219 8.050104108238196\n",
      "f751 0.0 0.5 0.1368010871708801\n",
      "f752 0.0 77.6731 6.129902211034323\n",
      "f753 0.0 68.6521 5.50031425131072\n",
      "f754 0.0 48.5794 3.3902609750547557\n",
      "f755 0.0 36.4735 2.1585758625593967\n",
      "f756 0.0 0.49763999999999997 0.11949789734618906\n",
      "f757 0.0 112.7703 10.521718300765011\n",
      "f758 0.0 95.3436 8.716264172142056\n",
      "f759 0.0 82.2931 7.286294699016864\n",
      "f760 0.0 0.5 0.1344727040513508\n",
      "f761 0.0 127.3468 12.901871623479456\n",
      "f762 0.0 120.425 12.08535606754463\n",
      "f763 -1.0 0.0 -0.24937844525983177\n",
      "f764 1 1 1.0\n",
      "f765 -0.97 0.0 -0.4710166775701763\n",
      "f766 -0.95 0.0 -0.47660508575816674\n",
      "f767 -0.963 0.0 -0.4715721572754446\n",
      "f768 -0.945 0.0 -0.49197272804847286\n",
      "f769 -85.45 0.0 -8.786109641512848\n",
      "f770 2 168 17.42254268945966\n",
      "f771 0.0 58.12 5.800976097695108\n",
      "f772 -43.16 0.0 -4.246788027040571\n",
      "f773 0.0 34.04 3.2730591347384963\n",
      "f774 0.0 0.4737 0.2314930284153979\n",
      "f775 -18.4396 11.092 0.01458284172900604\n",
      "f776 0 1 0.31024641844677686\n",
      "f777 0 1 0.32284703852243746\n",
      "f778 2 1212 175.95158858833233\n"
     ]
    }
   ],
   "source": [
    "for c in feature_cols:\n",
    "    print (c, df_train_orig[c].min(), df_train_orig[c].max(), df_train_orig[c].mean())"
   ]
  },
  {
   "cell_type": "code",
   "execution_count": 23,
   "metadata": {
    "scrolled": false
   },
   "outputs": [
    {
     "data": {
      "image/png": "[encoded data removed]",
      "text/plain": [
       "<Figure size 432x288 with 1 Axes>"
      ]
     },
     "metadata": {},
     "output_type": "display_data"
    },
    {
     "data": {
      "image/png": "[encoded data removed]",
      "text/plain": [
       "<Figure size 432x288 with 1 Axes>"
      ]
     },
     "metadata": {},
     "output_type": "display_data"
    },
    {
     "data": {
      "image/png": "[encoded data removed]",
      "text/plain": [
       "<Figure size 432x288 with 1 Axes>"
      ]
     },
     "metadata": {},
     "output_type": "display_data"
    },
    {
     "data": {
      "image/png": "[encoded data removed]",
      "text/plain": [
       "<Figure size 432x288 with 1 Axes>"
      ]
     },
     "metadata": {},
     "output_type": "display_data"
    },
    {
     "data": {
      "image/png": "[encoded data removed]",
      "text/plain": [
       "<Figure size 432x288 with 1 Axes>"
      ]
     },
     "metadata": {},
     "output_type": "display_data"
    },
    {
     "data": {
      "image/png": "[encoded data removed]",
      "text/plain": [
       "<Figure size 432x288 with 1 Axes>"
      ]
     },
     "metadata": {},
     "output_type": "display_data"
    },
    {
     "data": {
      "image/png": "[encoded data removed]",
      "text/plain": [
       "<Figure size 432x288 with 1 Axes>"
      ]
     },
     "metadata": {},
     "output_type": "display_data"
    },
    {
     "data": {
      "image/png": "[encoded data removed]",
      "text/plain": [
       "<Figure size 432x288 with 1 Axes>"
      ]
     },
     "metadata": {},
     "output_type": "display_data"
    }
   ],
   "source": [
    "for idx, c in enumerate(feature_cols):\n",
    "    if idx % 100 == 9:\n",
    "        try:\n",
    "            plt.hist(df_train_orig[c])\n",
    "            plt.show()\n",
    "        except:\n",
    "            print (\"couldn't make graph\")"
   ]
  },
  {
   "cell_type": "markdown",
   "metadata": {},
   "source": [
    "# Split off an eval set"
   ]
  },
  {
   "cell_type": "code",
   "execution_count": 24,
   "metadata": {},
   "outputs": [],
   "source": [
    "from sklearn.model_selection import train_test_split"
   ]
  },
  {
   "cell_type": "code",
   "execution_count": 30,
   "metadata": {},
   "outputs": [],
   "source": [
    "df_train, df_eval = train_test_split(df_train_orig, test_size=0.1, random_state=42)"
   ]
  },
  {
   "cell_type": "code",
   "execution_count": 31,
   "metadata": {},
   "outputs": [
    {
     "data": {
      "text/plain": [
       "(94923, 10548)"
      ]
     },
     "execution_count": 31,
     "metadata": {},
     "output_type": "execute_result"
    }
   ],
   "source": [
    "len(df_train), len(df_eval)"
   ]
  },
  {
   "cell_type": "markdown",
   "metadata": {},
   "source": [
    "# Try making a preprocessing pipeline"
   ]
  },
  {
   "cell_type": "code",
   "execution_count": 32,
   "metadata": {},
   "outputs": [],
   "source": [
    "from sklearn.decomposition import PCA\n",
    "from sklearn.preprocessing import RobustScaler\n",
    "from sklearn.pipeline import Pipeline"
   ]
  },
  {
   "cell_type": "code",
   "execution_count": 33,
   "metadata": {},
   "outputs": [],
   "source": [
    "scaler = RobustScaler()"
   ]
  },
  {
   "cell_type": "code",
   "execution_count": 34,
   "metadata": {},
   "outputs": [],
   "source": [
    "y_train = df_train[\"loss\"]"
   ]
  },
  {
   "cell_type": "code",
   "execution_count": 35,
   "metadata": {},
   "outputs": [],
   "source": [
    "X_train_scaled = scaler.fit_transform(df_train[feature_cols])"
   ]
  },
  {
   "cell_type": "code",
   "execution_count": 36,
   "metadata": {},
   "outputs": [],
   "source": [
    "pca = PCA(n_components=50)"
   ]
  },
  {
   "cell_type": "code",
   "execution_count": 37,
   "metadata": {},
   "outputs": [],
   "source": [
    "X_train_reduced = pca.fit_transform(X_train_scaled)"
   ]
  },
  {
   "cell_type": "code",
   "execution_count": 38,
   "metadata": {},
   "outputs": [
    {
     "data": {
      "text/plain": [
       "(94923, 50)"
      ]
     },
     "execution_count": 38,
     "metadata": {},
     "output_type": "execute_result"
    }
   ],
   "source": [
    "X_train_reduced.shape"
   ]
  },
  {
   "cell_type": "markdown",
   "metadata": {},
   "source": [
    "# Now try experimenting with a linear regression (second baseline)"
   ]
  },
  {
   "cell_type": "code",
   "execution_count": 55,
   "metadata": {},
   "outputs": [],
   "source": [
    "from sklearn.ensemble import RandomForestRegressor\n",
    "from sklearn.linear_model import LinearRegression\n",
    "from sklearn.pipeline import make_pipeline"
   ]
  },
  {
   "cell_type": "code",
   "execution_count": 43,
   "metadata": {},
   "outputs": [],
   "source": [
    "model = LinearRegression()"
   ]
  },
  {
   "cell_type": "code",
   "execution_count": 44,
   "metadata": {},
   "outputs": [
    {
     "data": {
      "text/plain": [
       "LinearRegression(copy_X=True, fit_intercept=True, n_jobs=1, normalize=False)"
      ]
     },
     "execution_count": 44,
     "metadata": {},
     "output_type": "execute_result"
    }
   ],
   "source": [
    "model.fit(X_train_reduced, y_train)"
   ]
  },
  {
   "cell_type": "code",
   "execution_count": 57,
   "metadata": {},
   "outputs": [],
   "source": [
    "y_eval = df_eval[\"loss\"]"
   ]
  },
  {
   "cell_type": "code",
   "execution_count": 56,
   "metadata": {},
   "outputs": [],
   "source": [
    "ml_pipeline = make_pipeline(scaler, pca, model)"
   ]
  },
  {
   "cell_type": "code",
   "execution_count": 58,
   "metadata": {},
   "outputs": [
    {
     "data": {
      "text/plain": [
       "Pipeline(memory=None,\n",
       "     steps=[('robustscaler', RobustScaler(copy=True, quantile_range=(25.0, 75.0), with_centering=True,\n",
       "       with_scaling=True)), ('pca', PCA(copy=True, iterated_power='auto', n_components=50, random_state=None,\n",
       "  svd_solver='auto', tol=0.0, whiten=False)), ('linearregression', LinearRegression(copy_X=True, fit_intercept=True, n_jobs=1, normalize=False))])"
      ]
     },
     "execution_count": 58,
     "metadata": {},
     "output_type": "execute_result"
    }
   ],
   "source": [
    "ml_pipeline.fit(df_train[feature_cols], df_train[\"loss\"])"
   ]
  },
  {
   "cell_type": "code",
   "execution_count": 59,
   "metadata": {},
   "outputs": [],
   "source": [
    "y_eval_pred = ml_pipeline.predict(df_eval[feature_cols])"
   ]
  },
  {
   "cell_type": "code",
   "execution_count": 60,
   "metadata": {},
   "outputs": [
    {
     "data": {
      "text/plain": [
       "1.4450414406613534"
      ]
     },
     "execution_count": 60,
     "metadata": {},
     "output_type": "execute_result"
    }
   ],
   "source": [
    "mean_absolute_error(y_eval, y_eval_pred)"
   ]
  },
  {
   "cell_type": "markdown",
   "metadata": {},
   "source": [
    "# Try vanilla Random Forest"
   ]
  },
  {
   "cell_type": "code",
   "execution_count": 69,
   "metadata": {},
   "outputs": [],
   "source": [
    "ml_pipeline = make_pipeline(scaler, pca, RandomForestRegressor())"
   ]
  },
  {
   "cell_type": "code",
   "execution_count": 70,
   "metadata": {},
   "outputs": [
    {
     "data": {
      "text/plain": [
       "Pipeline(memory=None,\n",
       "     steps=[('robustscaler', RobustScaler(copy=True, quantile_range=(25.0, 75.0), with_centering=True,\n",
       "       with_scaling=True)), ('pca', PCA(copy=True, iterated_power='auto', n_components=50, random_state=None,\n",
       "  svd_solver='auto', tol=0.0, whiten=False)), ('randomforestregressor', RandomForestRegresso...timators=10, n_jobs=1,\n",
       "           oob_score=False, random_state=None, verbose=0, warm_start=False))])"
      ]
     },
     "execution_count": 70,
     "metadata": {},
     "output_type": "execute_result"
    }
   ],
   "source": [
    "ml_pipeline.fit(df_train[feature_cols], df_train[\"loss\"])"
   ]
  },
  {
   "cell_type": "code",
   "execution_count": 71,
   "metadata": {},
   "outputs": [],
   "source": [
    "y_eval_pred = ml_pipeline.predict(df_eval[feature_cols])"
   ]
  },
  {
   "cell_type": "code",
   "execution_count": 72,
   "metadata": {},
   "outputs": [
    {
     "data": {
      "text/plain": [
       "1.7273227152066741"
      ]
     },
     "execution_count": 72,
     "metadata": {},
     "output_type": "execute_result"
    }
   ],
   "source": [
    "mean_absolute_error(y_eval, y_eval_pred)"
   ]
  },
  {
   "cell_type": "markdown",
   "metadata": {},
   "source": [
    "# What about without PCA?"
   ]
  },
  {
   "cell_type": "code",
   "execution_count": 73,
   "metadata": {},
   "outputs": [],
   "source": [
    "ml_pipeline = make_pipeline(scaler, RandomForestRegressor())"
   ]
  },
  {
   "cell_type": "code",
   "execution_count": 74,
   "metadata": {},
   "outputs": [
    {
     "ename": "KeyboardInterrupt",
     "evalue": "",
     "output_type": "error",
     "traceback": [
      "\u001b[0;31m---------------------------------------------------------------------------\u001b[0m",
      "\u001b[0;31mKeyboardInterrupt\u001b[0m                         Traceback (most recent call last)",
      "\u001b[0;32m<ipython-input-74-c9a99d9570d3>\u001b[0m in \u001b[0;36m<module>\u001b[0;34m()\u001b[0m\n\u001b[0;32m----> 1\u001b[0;31m \u001b[0mml_pipeline\u001b[0m\u001b[0;34m.\u001b[0m\u001b[0mfit\u001b[0m\u001b[0;34m(\u001b[0m\u001b[0mdf_train\u001b[0m\u001b[0;34m[\u001b[0m\u001b[0mfeature_cols\u001b[0m\u001b[0;34m]\u001b[0m\u001b[0;34m,\u001b[0m \u001b[0mdf_train\u001b[0m\u001b[0;34m[\u001b[0m\u001b[0;34m\"loss\"\u001b[0m\u001b[0;34m]\u001b[0m\u001b[0;34m)\u001b[0m\u001b[0;34m\u001b[0m\u001b[0m\n\u001b[0m",
      "\u001b[0;32m/anaconda3/lib/python3.6/site-packages/sklearn/pipeline.py\u001b[0m in \u001b[0;36mfit\u001b[0;34m(self, X, y, **fit_params)\u001b[0m\n\u001b[1;32m    248\u001b[0m         \u001b[0mXt\u001b[0m\u001b[0;34m,\u001b[0m \u001b[0mfit_params\u001b[0m \u001b[0;34m=\u001b[0m \u001b[0mself\u001b[0m\u001b[0;34m.\u001b[0m\u001b[0m_fit\u001b[0m\u001b[0;34m(\u001b[0m\u001b[0mX\u001b[0m\u001b[0;34m,\u001b[0m \u001b[0my\u001b[0m\u001b[0;34m,\u001b[0m \u001b[0;34m**\u001b[0m\u001b[0mfit_params\u001b[0m\u001b[0;34m)\u001b[0m\u001b[0;34m\u001b[0m\u001b[0m\n\u001b[1;32m    249\u001b[0m         \u001b[0;32mif\u001b[0m \u001b[0mself\u001b[0m\u001b[0;34m.\u001b[0m\u001b[0m_final_estimator\u001b[0m \u001b[0;32mis\u001b[0m \u001b[0;32mnot\u001b[0m \u001b[0;32mNone\u001b[0m\u001b[0;34m:\u001b[0m\u001b[0;34m\u001b[0m\u001b[0m\n\u001b[0;32m--> 250\u001b[0;31m             \u001b[0mself\u001b[0m\u001b[0;34m.\u001b[0m\u001b[0m_final_estimator\u001b[0m\u001b[0;34m.\u001b[0m\u001b[0mfit\u001b[0m\u001b[0;34m(\u001b[0m\u001b[0mXt\u001b[0m\u001b[0;34m,\u001b[0m \u001b[0my\u001b[0m\u001b[0;34m,\u001b[0m \u001b[0;34m**\u001b[0m\u001b[0mfit_params\u001b[0m\u001b[0;34m)\u001b[0m\u001b[0;34m\u001b[0m\u001b[0m\n\u001b[0m\u001b[1;32m    251\u001b[0m         \u001b[0;32mreturn\u001b[0m \u001b[0mself\u001b[0m\u001b[0;34m\u001b[0m\u001b[0m\n\u001b[1;32m    252\u001b[0m \u001b[0;34m\u001b[0m\u001b[0m\n",
      "\u001b[0;32m/anaconda3/lib/python3.6/site-packages/sklearn/ensemble/forest.py\u001b[0m in \u001b[0;36mfit\u001b[0;34m(self, X, y, sample_weight)\u001b[0m\n\u001b[1;32m    326\u001b[0m                     \u001b[0mt\u001b[0m\u001b[0;34m,\u001b[0m \u001b[0mself\u001b[0m\u001b[0;34m,\u001b[0m \u001b[0mX\u001b[0m\u001b[0;34m,\u001b[0m \u001b[0my\u001b[0m\u001b[0;34m,\u001b[0m \u001b[0msample_weight\u001b[0m\u001b[0;34m,\u001b[0m \u001b[0mi\u001b[0m\u001b[0;34m,\u001b[0m \u001b[0mlen\u001b[0m\u001b[0;34m(\u001b[0m\u001b[0mtrees\u001b[0m\u001b[0;34m)\u001b[0m\u001b[0;34m,\u001b[0m\u001b[0;34m\u001b[0m\u001b[0m\n\u001b[1;32m    327\u001b[0m                     verbose=self.verbose, class_weight=self.class_weight)\n\u001b[0;32m--> 328\u001b[0;31m                 for i, t in enumerate(trees))\n\u001b[0m\u001b[1;32m    329\u001b[0m \u001b[0;34m\u001b[0m\u001b[0m\n\u001b[1;32m    330\u001b[0m             \u001b[0;31m# Collect newly grown trees\u001b[0m\u001b[0;34m\u001b[0m\u001b[0;34m\u001b[0m\u001b[0m\n",
      "\u001b[0;32m/anaconda3/lib/python3.6/site-packages/sklearn/externals/joblib/parallel.py\u001b[0m in \u001b[0;36m__call__\u001b[0;34m(self, iterable)\u001b[0m\n\u001b[1;32m    777\u001b[0m             \u001b[0;31m# was dispatched. In particular this covers the edge\u001b[0m\u001b[0;34m\u001b[0m\u001b[0;34m\u001b[0m\u001b[0m\n\u001b[1;32m    778\u001b[0m             \u001b[0;31m# case of Parallel used with an exhausted iterator.\u001b[0m\u001b[0;34m\u001b[0m\u001b[0;34m\u001b[0m\u001b[0m\n\u001b[0;32m--> 779\u001b[0;31m             \u001b[0;32mwhile\u001b[0m \u001b[0mself\u001b[0m\u001b[0;34m.\u001b[0m\u001b[0mdispatch_one_batch\u001b[0m\u001b[0;34m(\u001b[0m\u001b[0miterator\u001b[0m\u001b[0;34m)\u001b[0m\u001b[0;34m:\u001b[0m\u001b[0;34m\u001b[0m\u001b[0m\n\u001b[0m\u001b[1;32m    780\u001b[0m                 \u001b[0mself\u001b[0m\u001b[0;34m.\u001b[0m\u001b[0m_iterating\u001b[0m \u001b[0;34m=\u001b[0m \u001b[0;32mTrue\u001b[0m\u001b[0;34m\u001b[0m\u001b[0m\n\u001b[1;32m    781\u001b[0m             \u001b[0;32melse\u001b[0m\u001b[0;34m:\u001b[0m\u001b[0;34m\u001b[0m\u001b[0m\n",
      "\u001b[0;32m/anaconda3/lib/python3.6/site-packages/sklearn/externals/joblib/parallel.py\u001b[0m in \u001b[0;36mdispatch_one_batch\u001b[0;34m(self, iterator)\u001b[0m\n\u001b[1;32m    623\u001b[0m                 \u001b[0;32mreturn\u001b[0m \u001b[0;32mFalse\u001b[0m\u001b[0;34m\u001b[0m\u001b[0m\n\u001b[1;32m    624\u001b[0m             \u001b[0;32melse\u001b[0m\u001b[0;34m:\u001b[0m\u001b[0;34m\u001b[0m\u001b[0m\n\u001b[0;32m--> 625\u001b[0;31m                 \u001b[0mself\u001b[0m\u001b[0;34m.\u001b[0m\u001b[0m_dispatch\u001b[0m\u001b[0;34m(\u001b[0m\u001b[0mtasks\u001b[0m\u001b[0;34m)\u001b[0m\u001b[0;34m\u001b[0m\u001b[0m\n\u001b[0m\u001b[1;32m    626\u001b[0m                 \u001b[0;32mreturn\u001b[0m \u001b[0;32mTrue\u001b[0m\u001b[0;34m\u001b[0m\u001b[0m\n\u001b[1;32m    627\u001b[0m \u001b[0;34m\u001b[0m\u001b[0m\n",
      "\u001b[0;32m/anaconda3/lib/python3.6/site-packages/sklearn/externals/joblib/parallel.py\u001b[0m in \u001b[0;36m_dispatch\u001b[0;34m(self, batch)\u001b[0m\n\u001b[1;32m    586\u001b[0m         \u001b[0mdispatch_timestamp\u001b[0m \u001b[0;34m=\u001b[0m \u001b[0mtime\u001b[0m\u001b[0;34m.\u001b[0m\u001b[0mtime\u001b[0m\u001b[0;34m(\u001b[0m\u001b[0;34m)\u001b[0m\u001b[0;34m\u001b[0m\u001b[0m\n\u001b[1;32m    587\u001b[0m         \u001b[0mcb\u001b[0m \u001b[0;34m=\u001b[0m \u001b[0mBatchCompletionCallBack\u001b[0m\u001b[0;34m(\u001b[0m\u001b[0mdispatch_timestamp\u001b[0m\u001b[0;34m,\u001b[0m \u001b[0mlen\u001b[0m\u001b[0;34m(\u001b[0m\u001b[0mbatch\u001b[0m\u001b[0;34m)\u001b[0m\u001b[0;34m,\u001b[0m \u001b[0mself\u001b[0m\u001b[0;34m)\u001b[0m\u001b[0;34m\u001b[0m\u001b[0m\n\u001b[0;32m--> 588\u001b[0;31m         \u001b[0mjob\u001b[0m \u001b[0;34m=\u001b[0m \u001b[0mself\u001b[0m\u001b[0;34m.\u001b[0m\u001b[0m_backend\u001b[0m\u001b[0;34m.\u001b[0m\u001b[0mapply_async\u001b[0m\u001b[0;34m(\u001b[0m\u001b[0mbatch\u001b[0m\u001b[0;34m,\u001b[0m \u001b[0mcallback\u001b[0m\u001b[0;34m=\u001b[0m\u001b[0mcb\u001b[0m\u001b[0;34m)\u001b[0m\u001b[0;34m\u001b[0m\u001b[0m\n\u001b[0m\u001b[1;32m    589\u001b[0m         \u001b[0mself\u001b[0m\u001b[0;34m.\u001b[0m\u001b[0m_jobs\u001b[0m\u001b[0;34m.\u001b[0m\u001b[0mappend\u001b[0m\u001b[0;34m(\u001b[0m\u001b[0mjob\u001b[0m\u001b[0;34m)\u001b[0m\u001b[0;34m\u001b[0m\u001b[0m\n\u001b[1;32m    590\u001b[0m \u001b[0;34m\u001b[0m\u001b[0m\n",
      "\u001b[0;32m/anaconda3/lib/python3.6/site-packages/sklearn/externals/joblib/_parallel_backends.py\u001b[0m in \u001b[0;36mapply_async\u001b[0;34m(self, func, callback)\u001b[0m\n\u001b[1;32m    109\u001b[0m     \u001b[0;32mdef\u001b[0m \u001b[0mapply_async\u001b[0m\u001b[0;34m(\u001b[0m\u001b[0mself\u001b[0m\u001b[0;34m,\u001b[0m \u001b[0mfunc\u001b[0m\u001b[0;34m,\u001b[0m \u001b[0mcallback\u001b[0m\u001b[0;34m=\u001b[0m\u001b[0;32mNone\u001b[0m\u001b[0;34m)\u001b[0m\u001b[0;34m:\u001b[0m\u001b[0;34m\u001b[0m\u001b[0m\n\u001b[1;32m    110\u001b[0m         \u001b[0;34m\"\"\"Schedule a func to be run\"\"\"\u001b[0m\u001b[0;34m\u001b[0m\u001b[0m\n\u001b[0;32m--> 111\u001b[0;31m         \u001b[0mresult\u001b[0m \u001b[0;34m=\u001b[0m \u001b[0mImmediateResult\u001b[0m\u001b[0;34m(\u001b[0m\u001b[0mfunc\u001b[0m\u001b[0;34m)\u001b[0m\u001b[0;34m\u001b[0m\u001b[0m\n\u001b[0m\u001b[1;32m    112\u001b[0m         \u001b[0;32mif\u001b[0m \u001b[0mcallback\u001b[0m\u001b[0;34m:\u001b[0m\u001b[0;34m\u001b[0m\u001b[0m\n\u001b[1;32m    113\u001b[0m             \u001b[0mcallback\u001b[0m\u001b[0;34m(\u001b[0m\u001b[0mresult\u001b[0m\u001b[0;34m)\u001b[0m\u001b[0;34m\u001b[0m\u001b[0m\n",
      "\u001b[0;32m/anaconda3/lib/python3.6/site-packages/sklearn/externals/joblib/_parallel_backends.py\u001b[0m in \u001b[0;36m__init__\u001b[0;34m(self, batch)\u001b[0m\n\u001b[1;32m    330\u001b[0m         \u001b[0;31m# Don't delay the application, to avoid keeping the input\u001b[0m\u001b[0;34m\u001b[0m\u001b[0;34m\u001b[0m\u001b[0m\n\u001b[1;32m    331\u001b[0m         \u001b[0;31m# arguments in memory\u001b[0m\u001b[0;34m\u001b[0m\u001b[0;34m\u001b[0m\u001b[0m\n\u001b[0;32m--> 332\u001b[0;31m         \u001b[0mself\u001b[0m\u001b[0;34m.\u001b[0m\u001b[0mresults\u001b[0m \u001b[0;34m=\u001b[0m \u001b[0mbatch\u001b[0m\u001b[0;34m(\u001b[0m\u001b[0;34m)\u001b[0m\u001b[0;34m\u001b[0m\u001b[0m\n\u001b[0m\u001b[1;32m    333\u001b[0m \u001b[0;34m\u001b[0m\u001b[0m\n\u001b[1;32m    334\u001b[0m     \u001b[0;32mdef\u001b[0m \u001b[0mget\u001b[0m\u001b[0;34m(\u001b[0m\u001b[0mself\u001b[0m\u001b[0;34m)\u001b[0m\u001b[0;34m:\u001b[0m\u001b[0;34m\u001b[0m\u001b[0m\n",
      "\u001b[0;32m/anaconda3/lib/python3.6/site-packages/sklearn/externals/joblib/parallel.py\u001b[0m in \u001b[0;36m__call__\u001b[0;34m(self)\u001b[0m\n\u001b[1;32m    129\u001b[0m \u001b[0;34m\u001b[0m\u001b[0m\n\u001b[1;32m    130\u001b[0m     \u001b[0;32mdef\u001b[0m \u001b[0m__call__\u001b[0m\u001b[0;34m(\u001b[0m\u001b[0mself\u001b[0m\u001b[0;34m)\u001b[0m\u001b[0;34m:\u001b[0m\u001b[0;34m\u001b[0m\u001b[0m\n\u001b[0;32m--> 131\u001b[0;31m         \u001b[0;32mreturn\u001b[0m \u001b[0;34m[\u001b[0m\u001b[0mfunc\u001b[0m\u001b[0;34m(\u001b[0m\u001b[0;34m*\u001b[0m\u001b[0margs\u001b[0m\u001b[0;34m,\u001b[0m \u001b[0;34m**\u001b[0m\u001b[0mkwargs\u001b[0m\u001b[0;34m)\u001b[0m \u001b[0;32mfor\u001b[0m \u001b[0mfunc\u001b[0m\u001b[0;34m,\u001b[0m \u001b[0margs\u001b[0m\u001b[0;34m,\u001b[0m \u001b[0mkwargs\u001b[0m \u001b[0;32min\u001b[0m \u001b[0mself\u001b[0m\u001b[0;34m.\u001b[0m\u001b[0mitems\u001b[0m\u001b[0;34m]\u001b[0m\u001b[0;34m\u001b[0m\u001b[0m\n\u001b[0m\u001b[1;32m    132\u001b[0m \u001b[0;34m\u001b[0m\u001b[0m\n\u001b[1;32m    133\u001b[0m     \u001b[0;32mdef\u001b[0m \u001b[0m__len__\u001b[0m\u001b[0;34m(\u001b[0m\u001b[0mself\u001b[0m\u001b[0;34m)\u001b[0m\u001b[0;34m:\u001b[0m\u001b[0;34m\u001b[0m\u001b[0m\n",
      "\u001b[0;32m/anaconda3/lib/python3.6/site-packages/sklearn/externals/joblib/parallel.py\u001b[0m in \u001b[0;36m<listcomp>\u001b[0;34m(.0)\u001b[0m\n\u001b[1;32m    129\u001b[0m \u001b[0;34m\u001b[0m\u001b[0m\n\u001b[1;32m    130\u001b[0m     \u001b[0;32mdef\u001b[0m \u001b[0m__call__\u001b[0m\u001b[0;34m(\u001b[0m\u001b[0mself\u001b[0m\u001b[0;34m)\u001b[0m\u001b[0;34m:\u001b[0m\u001b[0;34m\u001b[0m\u001b[0m\n\u001b[0;32m--> 131\u001b[0;31m         \u001b[0;32mreturn\u001b[0m \u001b[0;34m[\u001b[0m\u001b[0mfunc\u001b[0m\u001b[0;34m(\u001b[0m\u001b[0;34m*\u001b[0m\u001b[0margs\u001b[0m\u001b[0;34m,\u001b[0m \u001b[0;34m**\u001b[0m\u001b[0mkwargs\u001b[0m\u001b[0;34m)\u001b[0m \u001b[0;32mfor\u001b[0m \u001b[0mfunc\u001b[0m\u001b[0;34m,\u001b[0m \u001b[0margs\u001b[0m\u001b[0;34m,\u001b[0m \u001b[0mkwargs\u001b[0m \u001b[0;32min\u001b[0m \u001b[0mself\u001b[0m\u001b[0;34m.\u001b[0m\u001b[0mitems\u001b[0m\u001b[0;34m]\u001b[0m\u001b[0;34m\u001b[0m\u001b[0m\n\u001b[0m\u001b[1;32m    132\u001b[0m \u001b[0;34m\u001b[0m\u001b[0m\n\u001b[1;32m    133\u001b[0m     \u001b[0;32mdef\u001b[0m \u001b[0m__len__\u001b[0m\u001b[0;34m(\u001b[0m\u001b[0mself\u001b[0m\u001b[0;34m)\u001b[0m\u001b[0;34m:\u001b[0m\u001b[0;34m\u001b[0m\u001b[0m\n",
      "\u001b[0;32m/anaconda3/lib/python3.6/site-packages/sklearn/ensemble/forest.py\u001b[0m in \u001b[0;36m_parallel_build_trees\u001b[0;34m(tree, forest, X, y, sample_weight, tree_idx, n_trees, verbose, class_weight)\u001b[0m\n\u001b[1;32m    119\u001b[0m             \u001b[0mcurr_sample_weight\u001b[0m \u001b[0;34m*=\u001b[0m \u001b[0mcompute_sample_weight\u001b[0m\u001b[0;34m(\u001b[0m\u001b[0;34m'balanced'\u001b[0m\u001b[0;34m,\u001b[0m \u001b[0my\u001b[0m\u001b[0;34m,\u001b[0m \u001b[0mindices\u001b[0m\u001b[0;34m)\u001b[0m\u001b[0;34m\u001b[0m\u001b[0m\n\u001b[1;32m    120\u001b[0m \u001b[0;34m\u001b[0m\u001b[0m\n\u001b[0;32m--> 121\u001b[0;31m         \u001b[0mtree\u001b[0m\u001b[0;34m.\u001b[0m\u001b[0mfit\u001b[0m\u001b[0;34m(\u001b[0m\u001b[0mX\u001b[0m\u001b[0;34m,\u001b[0m \u001b[0my\u001b[0m\u001b[0;34m,\u001b[0m \u001b[0msample_weight\u001b[0m\u001b[0;34m=\u001b[0m\u001b[0mcurr_sample_weight\u001b[0m\u001b[0;34m,\u001b[0m \u001b[0mcheck_input\u001b[0m\u001b[0;34m=\u001b[0m\u001b[0;32mFalse\u001b[0m\u001b[0;34m)\u001b[0m\u001b[0;34m\u001b[0m\u001b[0m\n\u001b[0m\u001b[1;32m    122\u001b[0m     \u001b[0;32melse\u001b[0m\u001b[0;34m:\u001b[0m\u001b[0;34m\u001b[0m\u001b[0m\n\u001b[1;32m    123\u001b[0m         \u001b[0mtree\u001b[0m\u001b[0;34m.\u001b[0m\u001b[0mfit\u001b[0m\u001b[0;34m(\u001b[0m\u001b[0mX\u001b[0m\u001b[0;34m,\u001b[0m \u001b[0my\u001b[0m\u001b[0;34m,\u001b[0m \u001b[0msample_weight\u001b[0m\u001b[0;34m=\u001b[0m\u001b[0msample_weight\u001b[0m\u001b[0;34m,\u001b[0m \u001b[0mcheck_input\u001b[0m\u001b[0;34m=\u001b[0m\u001b[0;32mFalse\u001b[0m\u001b[0;34m)\u001b[0m\u001b[0;34m\u001b[0m\u001b[0m\n",
      "\u001b[0;32m/anaconda3/lib/python3.6/site-packages/sklearn/tree/tree.py\u001b[0m in \u001b[0;36mfit\u001b[0;34m(self, X, y, sample_weight, check_input, X_idx_sorted)\u001b[0m\n\u001b[1;32m   1122\u001b[0m             \u001b[0msample_weight\u001b[0m\u001b[0;34m=\u001b[0m\u001b[0msample_weight\u001b[0m\u001b[0;34m,\u001b[0m\u001b[0;34m\u001b[0m\u001b[0m\n\u001b[1;32m   1123\u001b[0m             \u001b[0mcheck_input\u001b[0m\u001b[0;34m=\u001b[0m\u001b[0mcheck_input\u001b[0m\u001b[0;34m,\u001b[0m\u001b[0;34m\u001b[0m\u001b[0m\n\u001b[0;32m-> 1124\u001b[0;31m             X_idx_sorted=X_idx_sorted)\n\u001b[0m\u001b[1;32m   1125\u001b[0m         \u001b[0;32mreturn\u001b[0m \u001b[0mself\u001b[0m\u001b[0;34m\u001b[0m\u001b[0m\n\u001b[1;32m   1126\u001b[0m \u001b[0;34m\u001b[0m\u001b[0m\n",
      "\u001b[0;32m/anaconda3/lib/python3.6/site-packages/sklearn/tree/tree.py\u001b[0m in \u001b[0;36mfit\u001b[0;34m(self, X, y, sample_weight, check_input, X_idx_sorted)\u001b[0m\n\u001b[1;32m    360\u001b[0m                                            min_impurity_split)\n\u001b[1;32m    361\u001b[0m \u001b[0;34m\u001b[0m\u001b[0m\n\u001b[0;32m--> 362\u001b[0;31m         \u001b[0mbuilder\u001b[0m\u001b[0;34m.\u001b[0m\u001b[0mbuild\u001b[0m\u001b[0;34m(\u001b[0m\u001b[0mself\u001b[0m\u001b[0;34m.\u001b[0m\u001b[0mtree_\u001b[0m\u001b[0;34m,\u001b[0m \u001b[0mX\u001b[0m\u001b[0;34m,\u001b[0m \u001b[0my\u001b[0m\u001b[0;34m,\u001b[0m \u001b[0msample_weight\u001b[0m\u001b[0;34m,\u001b[0m \u001b[0mX_idx_sorted\u001b[0m\u001b[0;34m)\u001b[0m\u001b[0;34m\u001b[0m\u001b[0m\n\u001b[0m\u001b[1;32m    363\u001b[0m \u001b[0;34m\u001b[0m\u001b[0m\n\u001b[1;32m    364\u001b[0m         \u001b[0;32mif\u001b[0m \u001b[0mself\u001b[0m\u001b[0;34m.\u001b[0m\u001b[0mn_outputs_\u001b[0m \u001b[0;34m==\u001b[0m \u001b[0;36m1\u001b[0m\u001b[0;34m:\u001b[0m\u001b[0;34m\u001b[0m\u001b[0m\n",
      "\u001b[0;31mKeyboardInterrupt\u001b[0m: "
     ]
    }
   ],
   "source": [
    "#ml_pipeline.fit(df_train[feature_cols], df_train[\"loss\"])"
   ]
  },
  {
   "cell_type": "code",
   "execution_count": null,
   "metadata": {},
   "outputs": [],
   "source": [
    "#y_eval_pred = ml_pipeline.predict(df_eval[feature_cols])"
   ]
  },
  {
   "cell_type": "markdown",
   "metadata": {},
   "source": [
    "can't run the above, kills laptop"
   ]
  },
  {
   "cell_type": "code",
   "execution_count": null,
   "metadata": {},
   "outputs": [],
   "source": [
    "#mean_absolute_error(y_eval, y_eval_pred)"
   ]
  },
  {
   "cell_type": "markdown",
   "metadata": {},
   "source": [
    "# What about splitting into LR and Random Forest - a two stage process?\n",
    "\n",
    "First make a classifier to identify if default or not"
   ]
  },
  {
   "cell_type": "code",
   "execution_count": 79,
   "metadata": {},
   "outputs": [],
   "source": [
    "from sklearn.ensemble import RandomForestClassifier"
   ]
  },
  {
   "cell_type": "code",
   "execution_count": 80,
   "metadata": {},
   "outputs": [],
   "source": [
    "ml_pipeline = make_pipeline(scaler, pca, RandomForestClassifier())"
   ]
  },
  {
   "cell_type": "code",
   "execution_count": 81,
   "metadata": {},
   "outputs": [],
   "source": [
    "ml_pipeline_is_default = make_pipeline(scaler, pca, RandomForestClassifier())"
   ]
  },
  {
   "cell_type": "code",
   "execution_count": 82,
   "metadata": {},
   "outputs": [],
   "source": [
    "def binariser(x):\n",
    "    return int(x > 0)"
   ]
  },
  {
   "cell_type": "code",
   "execution_count": 85,
   "metadata": {},
   "outputs": [
    {
     "data": {
      "text/plain": [
       "Pipeline(memory=None,\n",
       "     steps=[('robustscaler', RobustScaler(copy=True, quantile_range=(25.0, 75.0), with_centering=True,\n",
       "       with_scaling=True)), ('pca', PCA(copy=True, iterated_power='auto', n_components=50, random_state=None,\n",
       "  svd_solver='auto', tol=0.0, whiten=False)), ('randomforestclassifier', RandomForestClassif...n_jobs=1,\n",
       "            oob_score=False, random_state=None, verbose=0,\n",
       "            warm_start=False))])"
      ]
     },
     "execution_count": 85,
     "metadata": {},
     "output_type": "execute_result"
    }
   ],
   "source": [
    "ml_pipeline_is_default.fit(df_train[feature_cols], df_train[\"loss\"].apply(binariser))"
   ]
  },
  {
   "cell_type": "code",
   "execution_count": 88,
   "metadata": {},
   "outputs": [],
   "source": [
    "y_eval_is_default = pd.Series(y_eval_pred).apply(binariser)"
   ]
  },
  {
   "cell_type": "code",
   "execution_count": 89,
   "metadata": {},
   "outputs": [],
   "source": [
    "y_eval_pred_is_default = ml_pipeline_is_default.predict(df_eval[feature_cols])"
   ]
  },
  {
   "cell_type": "code",
   "execution_count": 93,
   "metadata": {},
   "outputs": [],
   "source": [
    "y_eval_pred_is_default_proba = ml_pipeline_is_default.predict_proba(df_eval[feature_cols])"
   ]
  },
  {
   "cell_type": "code",
   "execution_count": 92,
   "metadata": {},
   "outputs": [
    {
     "data": {
      "text/plain": [
       "array([[3855,    0],\n",
       "       [6670,   23]])"
      ]
     },
     "execution_count": 92,
     "metadata": {},
     "output_type": "execute_result"
    }
   ],
   "source": [
    "confusion_matrix(y_eval_is_default, y_eval_pred_is_default)"
   ]
  },
  {
   "cell_type": "code",
   "execution_count": 90,
   "metadata": {},
   "outputs": [],
   "source": [
    "from sklearn.metrics import confusion_matrix, roc_curve"
   ]
  },
  {
   "cell_type": "code",
   "execution_count": 96,
   "metadata": {
    "scrolled": true
   },
   "outputs": [
    {
     "name": "stdout",
     "output_type": "stream",
     "text": [
      "(array([0.00000000e+00, 0.00000000e+00, 7.78210117e-04, 1.11543450e-02,\n",
      "       5.49935149e-02, 1.85732815e-01, 4.88197147e-01, 1.00000000e+00]), array([0.00104587, 0.00343643, 0.01628567, 0.05543105, 0.15180039,\n",
      "       0.36455999, 0.69580158, 1.        ]), array([0.7, 0.6, 0.5, 0.4, 0.3, 0.2, 0.1, 0. ]))\n"
     ]
    },
    {
     "data": {
      "text/plain": [
       "[<matplotlib.lines.Line2D at 0x1a2ac69b70>]"
      ]
     },
     "execution_count": 96,
     "metadata": {},
     "output_type": "execute_result"
    },
    {
     "data": {
      "image/png": "[encoded data removed]",
      "text/plain": [
       "<Figure size 432x288 with 1 Axes>"
      ]
     },
     "metadata": {},
     "output_type": "display_data"
    }
   ],
   "source": [
    "roc = roc_curve(y_eval_is_default, y_eval_pred_is_default_proba[:,1])\n",
    "print (roc)\n",
    "plt.plot(roc[0], roc[1])"
   ]
  },
  {
   "cell_type": "markdown",
   "metadata": {},
   "source": [
    "# Try upsampling cases where default occurred"
   ]
  },
  {
   "cell_type": "code",
   "execution_count": 98,
   "metadata": {},
   "outputs": [],
   "source": [
    "nonzero_cases = df_train[df_train.loss > 0]"
   ]
  },
  {
   "cell_type": "code",
   "execution_count": 99,
   "metadata": {},
   "outputs": [],
   "source": [
    "to_concatenate = [df_train]\n",
    "for i in range(10):\n",
    "    to_concatenate.append(nonzero_cases)\n"
   ]
  },
  {
   "cell_type": "code",
   "execution_count": 101,
   "metadata": {},
   "outputs": [],
   "source": [
    "df_train_upsampled = pd.concat(to_concatenate).sample(frac=1) # shuffle"
   ]
  },
  {
   "cell_type": "markdown",
   "metadata": {},
   "source": [
    "## Now try the classifier again\n",
    "\n",
    "\n",
    "The model consists of:\n",
    "\n",
    "* robust scaler\n",
    "* PCA to 50 dimensions\n",
    "* RandomForestClasssifier with 10 estimators to predict if default\n",
    "* RandomForestRegressor with 10 estimators to predict default value"
   ]
  },
  {
   "cell_type": "code",
   "execution_count": 102,
   "metadata": {},
   "outputs": [
    {
     "data": {
      "text/plain": [
       "Pipeline(memory=None,\n",
       "     steps=[('robustscaler', RobustScaler(copy=True, quantile_range=(25.0, 75.0), with_centering=True,\n",
       "       with_scaling=True)), ('pca', PCA(copy=True, iterated_power='auto', n_components=50, random_state=None,\n",
       "  svd_solver='auto', tol=0.0, whiten=False)), ('randomforestclassifier', RandomForestClassif...n_jobs=1,\n",
       "            oob_score=False, random_state=None, verbose=0,\n",
       "            warm_start=False))])"
      ]
     },
     "execution_count": 102,
     "metadata": {},
     "output_type": "execute_result"
    }
   ],
   "source": [
    "ml_pipeline_is_default.fit(df_train_upsampled[feature_cols], df_train_upsampled[\"loss\"].apply(binariser))"
   ]
  },
  {
   "cell_type": "code",
   "execution_count": 103,
   "metadata": {},
   "outputs": [],
   "source": [
    "y_eval_is_default = pd.Series(y_eval_pred).apply(binariser)"
   ]
  },
  {
   "cell_type": "code",
   "execution_count": 104,
   "metadata": {},
   "outputs": [],
   "source": [
    "y_eval_pred_is_default = ml_pipeline_is_default.predict(df_eval[feature_cols])"
   ]
  },
  {
   "cell_type": "code",
   "execution_count": 105,
   "metadata": {},
   "outputs": [],
   "source": [
    "y_eval_pred_is_default_proba = ml_pipeline_is_default.predict_proba(df_eval[feature_cols])"
   ]
  },
  {
   "cell_type": "code",
   "execution_count": 106,
   "metadata": {
    "scrolled": true
   },
   "outputs": [
    {
     "data": {
      "text/plain": [
       "array([[3843,   12],\n",
       "       [6651,   42]])"
      ]
     },
     "execution_count": 106,
     "metadata": {},
     "output_type": "execute_result"
    }
   ],
   "source": [
    "confusion_matrix(y_eval_is_default, y_eval_pred_is_default)"
   ]
  },
  {
   "cell_type": "code",
   "execution_count": 107,
   "metadata": {
    "scrolled": false
   },
   "outputs": [
    {
     "name": "stdout",
     "output_type": "stream",
     "text": [
      "(array([0.        , 0.00103761, 0.00311284, 0.00907912, 0.03916991,\n",
      "       0.11725032, 0.29961089, 0.60881971, 1.        ]), array([5.97639325e-04, 1.64350814e-03, 6.27521291e-03, 2.28597042e-02,\n",
      "       8.21754071e-02, 2.05139698e-01, 4.33886150e-01, 7.43762140e-01,\n",
      "       1.00000000e+00]), array([0.8, 0.7, 0.6, 0.5, 0.4, 0.3, 0.2, 0.1, 0. ]))\n"
     ]
    },
    {
     "data": {
      "text/plain": [
       "[<matplotlib.lines.Line2D at 0x1a2ac757f0>]"
      ]
     },
     "execution_count": 107,
     "metadata": {},
     "output_type": "execute_result"
    },
    {
     "data": {
      "image/png": "[encoded data removed]",
      "text/plain": [
       "<Figure size 432x288 with 1 Axes>"
      ]
     },
     "metadata": {},
     "output_type": "display_data"
    }
   ],
   "source": [
    "roc = roc_curve(y_eval_is_default, y_eval_pred_is_default_proba[:,1])\n",
    "print (roc)\n",
    "plt.plot(roc[0], roc[1])"
   ]
  },
  {
   "cell_type": "markdown",
   "metadata": {},
   "source": [
    "Train a regressor (second half of pipeline) on the nonzero instances only!"
   ]
  },
  {
   "cell_type": "code",
   "execution_count": 108,
   "metadata": {},
   "outputs": [],
   "source": [
    "df_train_defaulted = df_train[df_train.loss > 0]"
   ]
  },
  {
   "cell_type": "code",
   "execution_count": 109,
   "metadata": {},
   "outputs": [],
   "source": [
    "ml_pipeline_default_only = make_pipeline(scaler, pca, RandomForestRegressor())"
   ]
  },
  {
   "cell_type": "code",
   "execution_count": 110,
   "metadata": {},
   "outputs": [
    {
     "data": {
      "text/plain": [
       "Pipeline(memory=None,\n",
       "     steps=[('robustscaler', RobustScaler(copy=True, quantile_range=(25.0, 75.0), with_centering=True,\n",
       "       with_scaling=True)), ('pca', PCA(copy=True, iterated_power='auto', n_components=50, random_state=None,\n",
       "  svd_solver='auto', tol=0.0, whiten=False)), ('randomforestregressor', RandomForestRegresso...timators=10, n_jobs=1,\n",
       "           oob_score=False, random_state=None, verbose=0, warm_start=False))])"
      ]
     },
     "execution_count": 110,
     "metadata": {},
     "output_type": "execute_result"
    }
   ],
   "source": [
    "ml_pipeline_default_only.fit(df_train_defaulted[feature_cols], df_train_defaulted[\"loss\"])"
   ]
  },
  {
   "cell_type": "code",
   "execution_count": 114,
   "metadata": {},
   "outputs": [],
   "source": [
    "y_eval_pred_second_half = ml_pipeline_default_only.predict(df_eval[feature_cols]) * y_eval_pred_is_default"
   ]
  },
  {
   "cell_type": "code",
   "execution_count": 116,
   "metadata": {},
   "outputs": [
    {
     "data": {
      "text/plain": [
       "0.8213215775502464"
      ]
     },
     "execution_count": 116,
     "metadata": {},
     "output_type": "execute_result"
    }
   ],
   "source": [
    "mean_absolute_error(y_eval, y_eval_pred_second_half)"
   ]
  },
  {
   "cell_type": "markdown",
   "metadata": {},
   "source": [
    "^^^ much better performance!"
   ]
  },
  {
   "cell_type": "markdown",
   "metadata": {},
   "source": [
    "## Try increasing number of estimators\n",
    "\n",
    "So now the model consists of:\n",
    "\n",
    "* robust scaler\n",
    "* PCA to 50 dimensions\n",
    "* RandomForestClasssifier with 100 estimators to predict if default\n",
    "* RandomForestRegressor with 100 estimators to predict default value"
   ]
  },
  {
   "cell_type": "code",
   "execution_count": 136,
   "metadata": {},
   "outputs": [],
   "source": [
    "ml_pipeline_is_default = make_pipeline(scaler, pca, RandomForestClassifier(n_estimators=100))"
   ]
  },
  {
   "cell_type": "code",
   "execution_count": 137,
   "metadata": {
    "scrolled": true
   },
   "outputs": [
    {
     "data": {
      "text/plain": [
       "Pipeline(memory=None,\n",
       "     steps=[('robustscaler', RobustScaler(copy=True, quantile_range=(25.0, 75.0), with_centering=True,\n",
       "       with_scaling=True)), ('pca', PCA(copy=True, iterated_power='auto', n_components=50, random_state=None,\n",
       "  svd_solver='auto', tol=0.0, whiten=False)), ('randomforestclassifier', RandomForestClassif...n_jobs=1,\n",
       "            oob_score=False, random_state=None, verbose=0,\n",
       "            warm_start=False))])"
      ]
     },
     "execution_count": 137,
     "metadata": {},
     "output_type": "execute_result"
    }
   ],
   "source": [
    "ml_pipeline_is_default.fit(df_train_upsampled[feature_cols], df_train_upsampled[\"loss\"].apply(binariser))"
   ]
  },
  {
   "cell_type": "code",
   "execution_count": 138,
   "metadata": {},
   "outputs": [],
   "source": [
    "y_eval_is_default = pd.Series(y_eval_pred).apply(binariser)"
   ]
  },
  {
   "cell_type": "code",
   "execution_count": 139,
   "metadata": {},
   "outputs": [],
   "source": [
    "y_eval_pred_is_default_proba = ml_pipeline_is_default.predict_proba(df_eval[feature_cols])"
   ]
  },
  {
   "cell_type": "code",
   "execution_count": 140,
   "metadata": {
    "scrolled": true
   },
   "outputs": [
    {
     "data": {
      "text/plain": [
       "array([[3843,   12],\n",
       "       [6651,   42]])"
      ]
     },
     "execution_count": 140,
     "metadata": {},
     "output_type": "execute_result"
    }
   ],
   "source": [
    "confusion_matrix(y_eval_is_default, y_eval_pred_is_default)"
   ]
  },
  {
   "cell_type": "code",
   "execution_count": 141,
   "metadata": {
    "scrolled": false
   },
   "outputs": [
    {
     "name": "stdout",
     "output_type": "stream",
     "text": [
      "(array([0.00000000e+00, 0.00000000e+00, 0.00000000e+00, 0.00000000e+00,\n",
      "       0.00000000e+00, 0.00000000e+00, 2.59403372e-04, 2.59403372e-04,\n",
      "       7.78210117e-04, 1.03761349e-03, 1.55642023e-03, 2.07522698e-03,\n",
      "       3.37224384e-03, 5.18806744e-03, 7.26329442e-03, 8.04150454e-03,\n",
      "       1.08949416e-02, 1.40077821e-02, 1.89364462e-02, 2.41245136e-02,\n",
      "       2.64591440e-02, 3.34630350e-02, 4.28015564e-02, 5.42153048e-02,\n",
      "       6.61478599e-02, 8.14526589e-02, 9.93514916e-02, 1.19584955e-01,\n",
      "       1.41374838e-01, 1.63164721e-01, 1.94811933e-01, 2.23605707e-01,\n",
      "       2.56031128e-01, 3.00389105e-01, 3.53047990e-01, 4.07263294e-01,\n",
      "       4.64072633e-01, 5.19844358e-01, 5.80544747e-01, 6.40726329e-01,\n",
      "       6.95460441e-01, 7.52010376e-01, 8.02594034e-01, 8.50843061e-01,\n",
      "       9.01167315e-01, 9.39299611e-01, 9.74837873e-01, 1.00000000e+00]), array([1.49409831e-04, 4.48229494e-04, 7.47049156e-04, 1.64350814e-03,\n",
      "       2.24114747e-03, 4.93052443e-03, 5.52816375e-03, 7.02226206e-03,\n",
      "       7.61990139e-03, 1.04586882e-02, 1.26998356e-02, 1.59868519e-02,\n",
      "       1.91244584e-02, 2.28597042e-02, 2.73419991e-02, 3.33183924e-02,\n",
      "       4.09382937e-02, 4.84087853e-02, 5.85686538e-02, 6.85791125e-02,\n",
      "       8.11295383e-02, 9.45764231e-02, 1.13999701e-01, 1.34917078e-01,\n",
      "       1.55535634e-01, 1.81682355e-01, 2.06932616e-01, 2.42492156e-01,\n",
      "       2.77902286e-01, 3.19139399e-01, 3.63962349e-01, 4.14164052e-01,\n",
      "       4.64066936e-01, 5.16509786e-01, 5.76721948e-01, 6.30360078e-01,\n",
      "       6.84446437e-01, 7.37785746e-01, 7.91573286e-01, 8.37890333e-01,\n",
      "       8.76139250e-01, 9.13790527e-01, 9.40833707e-01, 9.63095772e-01,\n",
      "       9.80576722e-01, 9.90886000e-01, 9.96563574e-01, 1.00000000e+00]), array([0.62, 0.53, 0.51, 0.47, 0.45, 0.42, 0.41, 0.4 , 0.39, 0.38, 0.37,\n",
      "       0.36, 0.35, 0.34, 0.33, 0.32, 0.31, 0.3 , 0.29, 0.28, 0.27, 0.26,\n",
      "       0.25, 0.24, 0.23, 0.22, 0.21, 0.2 , 0.19, 0.18, 0.17, 0.16, 0.15,\n",
      "       0.14, 0.13, 0.12, 0.11, 0.1 , 0.09, 0.08, 0.07, 0.06, 0.05, 0.04,\n",
      "       0.03, 0.02, 0.01, 0.  ]))\n"
     ]
    },
    {
     "data": {
      "text/plain": [
       "[<matplotlib.lines.Line2D at 0x1a2cad3828>]"
      ]
     },
     "execution_count": 141,
     "metadata": {},
     "output_type": "execute_result"
    },
    {
     "data": {
      "image/png": "[encoded data removed]",
      "text/plain": [
       "<Figure size 432x288 with 1 Axes>"
      ]
     },
     "metadata": {},
     "output_type": "display_data"
    }
   ],
   "source": [
    "roc = roc_curve(y_eval_is_default, y_eval_pred_is_default_proba[:,1])\n",
    "print (roc)\n",
    "plt.plot(roc[0], roc[1])"
   ]
  },
  {
   "cell_type": "markdown",
   "metadata": {},
   "source": [
    "Train a regressor (second half of pipeline) on the nonzero instances only!"
   ]
  },
  {
   "cell_type": "code",
   "execution_count": 142,
   "metadata": {},
   "outputs": [],
   "source": [
    "df_train_defaulted = df_train[df_train.loss > 0]"
   ]
  },
  {
   "cell_type": "code",
   "execution_count": 143,
   "metadata": {},
   "outputs": [],
   "source": [
    "ml_pipeline_default_only = make_pipeline(scaler, pca, RandomForestRegressor(n_estimators=100))"
   ]
  },
  {
   "cell_type": "code",
   "execution_count": 144,
   "metadata": {},
   "outputs": [
    {
     "data": {
      "text/plain": [
       "Pipeline(memory=None,\n",
       "     steps=[('robustscaler', RobustScaler(copy=True, quantile_range=(25.0, 75.0), with_centering=True,\n",
       "       with_scaling=True)), ('pca', PCA(copy=True, iterated_power='auto', n_components=50, random_state=None,\n",
       "  svd_solver='auto', tol=0.0, whiten=False)), ('randomforestregressor', RandomForestRegresso...imators=100, n_jobs=1,\n",
       "           oob_score=False, random_state=None, verbose=0, warm_start=False))])"
      ]
     },
     "execution_count": 144,
     "metadata": {},
     "output_type": "execute_result"
    }
   ],
   "source": [
    "ml_pipeline_default_only.fit(df_train_defaulted[feature_cols], df_train_defaulted[\"loss\"])"
   ]
  },
  {
   "cell_type": "code",
   "execution_count": 145,
   "metadata": {},
   "outputs": [],
   "source": [
    "y_eval_pred_second_half = ml_pipeline_default_only.predict(df_eval[feature_cols]) * y_eval_pred_is_default"
   ]
  },
  {
   "cell_type": "code",
   "execution_count": 146,
   "metadata": {
    "scrolled": true
   },
   "outputs": [
    {
     "data": {
      "text/plain": [
       "0.8164761092150171"
      ]
     },
     "execution_count": 146,
     "metadata": {},
     "output_type": "execute_result"
    }
   ],
   "source": [
    "mean_absolute_error(y_eval, y_eval_pred_second_half)"
   ]
  },
  {
   "cell_type": "markdown",
   "metadata": {},
   "source": [
    "^^ marginal improvement on the smaller Random Forest model"
   ]
  },
  {
   "cell_type": "code",
   "execution_count": null,
   "metadata": {},
   "outputs": [],
   "source": []
  },
  {
   "cell_type": "markdown",
   "metadata": {},
   "source": [
    "# Try making test set prediction"
   ]
  },
  {
   "cell_type": "code",
   "execution_count": 157,
   "metadata": {},
   "outputs": [],
   "source": [
    "y_test_pred_is_default = ml_pipeline_is_default.predict(df_test[feature_cols])"
   ]
  },
  {
   "cell_type": "code",
   "execution_count": 158,
   "metadata": {},
   "outputs": [],
   "source": [
    "y_test_pred_second_half = ml_pipeline_default_only.predict(df_test[feature_cols]) * y_test_pred_is_default"
   ]
  },
  {
   "cell_type": "code",
   "execution_count": 159,
   "metadata": {},
   "outputs": [],
   "source": [
    "df_test_submission = pd.DataFrame()\n",
    "df_test_submission[\"id\"] = df_test[\"id\"]\n",
    "df_test_submission[\"loss\"] = y_test_pred_second_half\n"
   ]
  },
  {
   "cell_type": "code",
   "execution_count": 160,
   "metadata": {},
   "outputs": [
    {
     "data": {
      "text/html": [
       "<div>\n",
       "<style scoped>\n",
       "    .dataframe tbody tr th:only-of-type {\n",
       "        vertical-align: middle;\n",
       "    }\n",
       "\n",
       "    .dataframe tbody tr th {\n",
       "        vertical-align: top;\n",
       "    }\n",
       "\n",
       "    .dataframe thead th {\n",
       "        text-align: right;\n",
       "    }\n",
       "</style>\n",
       "<table border=\"1\" class=\"dataframe\">\n",
       "  <thead>\n",
       "    <tr style=\"text-align: right;\">\n",
       "      <th></th>\n",
       "      <th>id</th>\n",
       "      <th>loss</th>\n",
       "    </tr>\n",
       "  </thead>\n",
       "  <tbody>\n",
       "    <tr>\n",
       "      <th>0</th>\n",
       "      <td>105472</td>\n",
       "      <td>0.0</td>\n",
       "    </tr>\n",
       "    <tr>\n",
       "      <th>1</th>\n",
       "      <td>105473</td>\n",
       "      <td>0.0</td>\n",
       "    </tr>\n",
       "    <tr>\n",
       "      <th>2</th>\n",
       "      <td>105474</td>\n",
       "      <td>0.0</td>\n",
       "    </tr>\n",
       "    <tr>\n",
       "      <th>3</th>\n",
       "      <td>105475</td>\n",
       "      <td>0.0</td>\n",
       "    </tr>\n",
       "    <tr>\n",
       "      <th>4</th>\n",
       "      <td>105476</td>\n",
       "      <td>0.0</td>\n",
       "    </tr>\n",
       "  </tbody>\n",
       "</table>\n",
       "</div>"
      ],
      "text/plain": [
       "       id  loss\n",
       "0  105472   0.0\n",
       "1  105473   0.0\n",
       "2  105474   0.0\n",
       "3  105475   0.0\n",
       "4  105476   0.0"
      ]
     },
     "execution_count": 160,
     "metadata": {},
     "output_type": "execute_result"
    }
   ],
   "source": [
    "df_test_submission.head()"
   ]
  },
  {
   "cell_type": "code",
   "execution_count": 161,
   "metadata": {},
   "outputs": [],
   "source": [
    "df_test_submission.to_csv(\"submission1.csv\",index=False)"
   ]
  },
  {
   "cell_type": "markdown",
   "metadata": {},
   "source": [
    "# What about PCAing to 100 dimensions instead of 50?\n",
    "\n",
    "So now the model consists of:\n",
    "\n",
    "* robust scaler\n",
    "* PCA to 100 dimensions\n",
    "* RandomForestClasssifier with 100 estimators to predict if default\n",
    "* RandomForestRegressor with 100 estimators to predict default value"
   ]
  },
  {
   "cell_type": "code",
   "execution_count": 162,
   "metadata": {},
   "outputs": [],
   "source": [
    "pca = PCA(n_components=100)"
   ]
  },
  {
   "cell_type": "code",
   "execution_count": 164,
   "metadata": {},
   "outputs": [],
   "source": [
    "ml_pipeline_is_default = make_pipeline(scaler, pca, RandomForestClassifier(n_estimators=100))"
   ]
  },
  {
   "cell_type": "code",
   "execution_count": null,
   "metadata": {},
   "outputs": [],
   "source": []
  },
  {
   "cell_type": "code",
   "execution_count": 165,
   "metadata": {
    "scrolled": false
   },
   "outputs": [
    {
     "data": {
      "text/plain": [
       "Pipeline(memory=None,\n",
       "     steps=[('robustscaler', RobustScaler(copy=True, quantile_range=(25.0, 75.0), with_centering=True,\n",
       "       with_scaling=True)), ('pca', PCA(copy=True, iterated_power='auto', n_components=100, random_state=None,\n",
       "  svd_solver='auto', tol=0.0, whiten=False)), ('randomforestclassifier', RandomForestClassi...n_jobs=1,\n",
       "            oob_score=False, random_state=None, verbose=0,\n",
       "            warm_start=False))])"
      ]
     },
     "execution_count": 165,
     "metadata": {},
     "output_type": "execute_result"
    }
   ],
   "source": [
    "ml_pipeline_is_default.fit(df_train_upsampled[feature_cols], df_train_upsampled[\"loss\"].apply(binariser))"
   ]
  },
  {
   "cell_type": "code",
   "execution_count": 166,
   "metadata": {},
   "outputs": [],
   "source": [
    "y_eval_is_default = pd.Series(y_eval_pred).apply(binariser)"
   ]
  },
  {
   "cell_type": "code",
   "execution_count": 167,
   "metadata": {},
   "outputs": [],
   "source": [
    "y_eval_pred_is_default_proba = ml_pipeline_is_default.predict_proba(df_eval[feature_cols])"
   ]
  },
  {
   "cell_type": "code",
   "execution_count": 168,
   "metadata": {
    "scrolled": true
   },
   "outputs": [
    {
     "data": {
      "text/plain": [
       "array([[3843,   12],\n",
       "       [6651,   42]])"
      ]
     },
     "execution_count": 168,
     "metadata": {},
     "output_type": "execute_result"
    }
   ],
   "source": [
    "confusion_matrix(y_eval_is_default, y_eval_pred_is_default)"
   ]
  },
  {
   "cell_type": "code",
   "execution_count": 169,
   "metadata": {
    "scrolled": false
   },
   "outputs": [
    {
     "name": "stdout",
     "output_type": "stream",
     "text": [
      "(array([0.00000000e+00, 0.00000000e+00, 0.00000000e+00, 0.00000000e+00,\n",
      "       0.00000000e+00, 2.59403372e-04, 5.18806744e-04, 5.18806744e-04,\n",
      "       7.78210117e-04, 7.78210117e-04, 1.55642023e-03, 3.11284047e-03,\n",
      "       4.40985733e-03, 5.96627756e-03, 8.04150454e-03, 1.03761349e-02,\n",
      "       1.34889754e-02, 1.66018158e-02, 2.02334630e-02, 2.56809339e-02,\n",
      "       3.29442283e-02, 3.83916991e-02, 4.79896239e-02, 5.68093385e-02,\n",
      "       6.40726329e-02, 7.49675746e-02, 9.07911803e-02, 1.10765240e-01,\n",
      "       1.34889754e-01, 1.60051881e-01, 1.87289235e-01, 2.24643320e-01,\n",
      "       2.66147860e-01, 3.06874189e-01, 3.59792477e-01, 4.14007782e-01,\n",
      "       4.71335927e-01, 5.32814527e-01, 5.92477302e-01, 6.59662776e-01,\n",
      "       7.15953307e-01, 7.69909209e-01, 8.24124514e-01, 8.70298314e-01,\n",
      "       9.17769131e-01, 9.55382620e-01, 9.81841764e-01, 1.00000000e+00]), array([1.49409831e-04, 5.97639325e-04, 1.04586882e-03, 1.49409831e-03,\n",
      "       2.24114747e-03, 2.53996713e-03, 4.18347527e-03, 5.07993426e-03,\n",
      "       6.72344240e-03, 7.61990139e-03, 8.21754071e-03, 1.03092784e-02,\n",
      "       1.28492455e-02, 1.71821306e-02, 2.07679665e-02, 2.56984910e-02,\n",
      "       3.15254744e-02, 3.91453758e-02, 4.55699985e-02, 5.64769162e-02,\n",
      "       6.93261617e-02, 8.18765875e-02, 9.53234723e-02, 1.15194980e-01,\n",
      "       1.38353504e-01, 1.65097863e-01, 1.93784551e-01, 2.25160616e-01,\n",
      "       2.62064844e-01, 2.97026744e-01, 3.44240251e-01, 3.99521889e-01,\n",
      "       4.51367100e-01, 5.07246377e-01, 5.68504408e-01, 6.20648439e-01,\n",
      "       6.81308830e-01, 7.38682205e-01, 7.92469745e-01, 8.35499776e-01,\n",
      "       8.74346332e-01, 9.11549380e-01, 9.39040789e-01, 9.63095772e-01,\n",
      "       9.79829673e-01, 9.90138951e-01, 9.97011803e-01, 1.00000000e+00]), array([0.59, 0.5 , 0.45, 0.44, 0.43, 0.42, 0.41, 0.4 , 0.39, 0.38, 0.37,\n",
      "       0.36, 0.35, 0.34, 0.33, 0.32, 0.31, 0.3 , 0.29, 0.28, 0.27, 0.26,\n",
      "       0.25, 0.24, 0.23, 0.22, 0.21, 0.2 , 0.19, 0.18, 0.17, 0.16, 0.15,\n",
      "       0.14, 0.13, 0.12, 0.11, 0.1 , 0.09, 0.08, 0.07, 0.06, 0.05, 0.04,\n",
      "       0.03, 0.02, 0.01, 0.  ]))\n"
     ]
    },
    {
     "data": {
      "text/plain": [
       "[<matplotlib.lines.Line2D at 0x1a2e88d6d8>]"
      ]
     },
     "execution_count": 169,
     "metadata": {},
     "output_type": "execute_result"
    },
    {
     "data": {
      "image/png": "[encoded data removed]",
      "text/plain": [
       "<Figure size 432x288 with 1 Axes>"
      ]
     },
     "metadata": {},
     "output_type": "display_data"
    }
   ],
   "source": [
    "roc = roc_curve(y_eval_is_default, y_eval_pred_is_default_proba[:,1])\n",
    "print (roc)\n",
    "plt.plot(roc[0], roc[1])"
   ]
  },
  {
   "cell_type": "markdown",
   "metadata": {},
   "source": [
    "Train a regressor (second half of pipeline) on the nonzero instances only!"
   ]
  },
  {
   "cell_type": "code",
   "execution_count": 170,
   "metadata": {},
   "outputs": [],
   "source": [
    "df_train_defaulted = df_train[df_train.loss > 0]"
   ]
  },
  {
   "cell_type": "code",
   "execution_count": 171,
   "metadata": {},
   "outputs": [],
   "source": [
    "ml_pipeline_default_only = make_pipeline(scaler, pca, RandomForestRegressor(n_estimators=100))"
   ]
  },
  {
   "cell_type": "code",
   "execution_count": 172,
   "metadata": {},
   "outputs": [
    {
     "data": {
      "text/plain": [
       "Pipeline(memory=None,\n",
       "     steps=[('robustscaler', RobustScaler(copy=True, quantile_range=(25.0, 75.0), with_centering=True,\n",
       "       with_scaling=True)), ('pca', PCA(copy=True, iterated_power='auto', n_components=100, random_state=None,\n",
       "  svd_solver='auto', tol=0.0, whiten=False)), ('randomforestregressor', RandomForestRegress...imators=100, n_jobs=1,\n",
       "           oob_score=False, random_state=None, verbose=0, warm_start=False))])"
      ]
     },
     "execution_count": 172,
     "metadata": {},
     "output_type": "execute_result"
    }
   ],
   "source": [
    "ml_pipeline_default_only.fit(df_train_defaulted[feature_cols], df_train_defaulted[\"loss\"])"
   ]
  },
  {
   "cell_type": "code",
   "execution_count": 173,
   "metadata": {},
   "outputs": [],
   "source": [
    "y_eval_pred_second_half = ml_pipeline_default_only.predict(df_eval[feature_cols]) * y_eval_pred_is_default"
   ]
  },
  {
   "cell_type": "code",
   "execution_count": 174,
   "metadata": {
    "scrolled": true
   },
   "outputs": [
    {
     "data": {
      "text/plain": [
       "0.8193164580963216"
      ]
     },
     "execution_count": 174,
     "metadata": {},
     "output_type": "execute_result"
    }
   ],
   "source": [
    "mean_absolute_error(y_eval, y_eval_pred_second_half)"
   ]
  },
  {
   "cell_type": "markdown",
   "metadata": {},
   "source": [
    "No noticeable change from PCA to more dimensions. Keep it at 50 in the future."
   ]
  },
  {
   "cell_type": "code",
   "execution_count": 177,
   "metadata": {},
   "outputs": [],
   "source": [
    "pca = PCA(n_components=50)"
   ]
  },
  {
   "cell_type": "markdown",
   "metadata": {},
   "source": [
    "# Try Keras for regression part"
   ]
  },
  {
   "cell_type": "code",
   "execution_count": 178,
   "metadata": {},
   "outputs": [],
   "source": [
    "ml_pipeline_is_default = make_pipeline(scaler, pca, RandomForestClassifier(n_estimators=100))"
   ]
  },
  {
   "cell_type": "code",
   "execution_count": 179,
   "metadata": {},
   "outputs": [
    {
     "data": {
      "text/plain": [
       "Pipeline(memory=None,\n",
       "     steps=[('robustscaler', RobustScaler(copy=True, quantile_range=(25.0, 75.0), with_centering=True,\n",
       "       with_scaling=True)), ('pca', PCA(copy=True, iterated_power='auto', n_components=50, random_state=None,\n",
       "  svd_solver='auto', tol=0.0, whiten=False)), ('randomforestclassifier', RandomForestClassif...n_jobs=1,\n",
       "            oob_score=False, random_state=None, verbose=0,\n",
       "            warm_start=False))])"
      ]
     },
     "execution_count": 179,
     "metadata": {},
     "output_type": "execute_result"
    }
   ],
   "source": [
    "ml_pipeline_is_default.fit(df_train_upsampled[feature_cols], df_train_upsampled[\"loss\"].apply(binariser))"
   ]
  },
  {
   "cell_type": "code",
   "execution_count": 180,
   "metadata": {},
   "outputs": [],
   "source": [
    "y_eval_is_default = pd.Series(y_eval_pred).apply(binariser)"
   ]
  },
  {
   "cell_type": "code",
   "execution_count": 181,
   "metadata": {},
   "outputs": [],
   "source": [
    "y_eval_pred_is_default_proba = ml_pipeline_is_default.predict_proba(df_eval[feature_cols])"
   ]
  },
  {
   "cell_type": "code",
   "execution_count": 182,
   "metadata": {
    "scrolled": true
   },
   "outputs": [
    {
     "data": {
      "text/plain": [
       "array([[3843,   12],\n",
       "       [6651,   42]])"
      ]
     },
     "execution_count": 182,
     "metadata": {},
     "output_type": "execute_result"
    }
   ],
   "source": [
    "confusion_matrix(y_eval_is_default, y_eval_pred_is_default)"
   ]
  },
  {
   "cell_type": "markdown",
   "metadata": {},
   "source": [
    "Train a regressor (second half of pipeline) on the nonzero instances only!"
   ]
  },
  {
   "cell_type": "code",
   "execution_count": 183,
   "metadata": {},
   "outputs": [],
   "source": [
    "df_train_defaulted = df_train[df_train.loss > 0]"
   ]
  },
  {
   "cell_type": "code",
   "execution_count": 184,
   "metadata": {},
   "outputs": [],
   "source": [
    "preprocessing_pipeline_only = make_pipeline(scaler, pca)"
   ]
  },
  {
   "cell_type": "code",
   "execution_count": 186,
   "metadata": {},
   "outputs": [],
   "source": [
    "X_train_for_keras = preprocessing_pipeline_only.fit_transform(df_train_defaulted[feature_cols])"
   ]
  },
  {
   "cell_type": "code",
   "execution_count": 193,
   "metadata": {},
   "outputs": [],
   "source": [
    "y_train_for_keras = df_train_defaulted.loss"
   ]
  },
  {
   "cell_type": "code",
   "execution_count": 187,
   "metadata": {},
   "outputs": [
    {
     "data": {
      "text/plain": [
       "(8793, 50)"
      ]
     },
     "execution_count": 187,
     "metadata": {},
     "output_type": "execute_result"
    }
   ],
   "source": [
    "np.shape(X_train_for_keras)"
   ]
  },
  {
   "cell_type": "code",
   "execution_count": 175,
   "metadata": {},
   "outputs": [
    {
     "name": "stderr",
     "output_type": "stream",
     "text": [
      "/anaconda3/lib/python3.6/site-packages/h5py/__init__.py:36: FutureWarning: Conversion of the second argument of issubdtype from `float` to `np.floating` is deprecated. In future, it will be treated as `np.float64 == np.dtype(float).type`.\n",
      "  from ._conv import register_converters as _register_converters\n",
      "Using TensorFlow backend.\n"
     ]
    }
   ],
   "source": [
    "from keras.models import Sequential\n",
    "from keras.utils import np_utils\n",
    "from keras.layers.core import Dense, Activation, Dropout"
   ]
  },
  {
   "cell_type": "code",
   "execution_count": 191,
   "metadata": {},
   "outputs": [
    {
     "name": "stdout",
     "output_type": "stream",
     "text": [
      "50\n"
     ]
    }
   ],
   "source": [
    "input_dim = X_train_for_keras.shape[1]\n",
    "print (input_dim)\n",
    "model = Sequential()\n",
    "model.add(Dense(128, input_dim=input_dim))\n",
    "model.add(Activation('relu'))\n",
    "model.add(Dropout(0.15))\n",
    "model.add(Dense(128))\n",
    "model.add(Activation('relu'))\n",
    "model.add(Dropout(0.15))\n",
    "model.add(Dense(1))"
   ]
  },
  {
   "cell_type": "code",
   "execution_count": 192,
   "metadata": {},
   "outputs": [],
   "source": [
    "model.compile(loss='mean_squared_error', optimizer='adam')"
   ]
  },
  {
   "cell_type": "code",
   "execution_count": 196,
   "metadata": {},
   "outputs": [
    {
     "name": "stdout",
     "output_type": "stream",
     "text": [
      "Train on 7913 samples, validate on 880 samples\n",
      "Epoch 1/100\n",
      "2880/7913 [=========>....................] - ETA: 0s - loss: 22351277711.3567"
     ]
    },
    {
     "name": "stderr",
     "output_type": "stream",
     "text": [
      "/anaconda3/lib/python3.6/site-packages/ipykernel_launcher.py:1: UserWarning: The `nb_epoch` argument in `fit` has been renamed `epochs`.\n",
      "  \"\"\"Entry point for launching an IPython kernel.\n"
     ]
    },
    {
     "name": "stdout",
     "output_type": "stream",
     "text": [
      "7913/7913 [==============================] - 1s 73us/step - loss: 164979725180.6201 - val_loss: 107160452665.0467\n",
      "Epoch 2/100\n",
      "7913/7913 [==============================] - 0s 61us/step - loss: 92408173597.5376 - val_loss: 103780782340.3098\n",
      "Epoch 3/100\n",
      "7913/7913 [==============================] - 1s 65us/step - loss: 44075108790.0888 - val_loss: 7612147489.3357\n",
      "Epoch 4/100\n",
      "7913/7913 [==============================] - 0s 63us/step - loss: 51268114689.7803 - val_loss: 12413162424.3809\n",
      "Epoch 5/100\n",
      "7913/7913 [==============================] - 1s 64us/step - loss: 54455522088.6054 - val_loss: 1304011571.4660\n",
      "Epoch 6/100\n",
      "7913/7913 [==============================] - 0s 61us/step - loss: 13779106980.5590 - val_loss: 55276364.2599\n",
      "Epoch 7/100\n",
      "7913/7913 [==============================] - 1s 67us/step - loss: 11646804913.1753 - val_loss: 6316252930.6957\n",
      "Epoch 8/100\n",
      "7913/7913 [==============================] - 1s 64us/step - loss: 10100001829.6342 - val_loss: 1708496887.7982\n",
      "Epoch 9/100\n",
      "7913/7913 [==============================] - 1s 63us/step - loss: 1884367228.8222 - val_loss: 6670241003.4946\n",
      "Epoch 10/100\n",
      "7913/7913 [==============================] - 1s 66us/step - loss: 1978812403.0918 - val_loss: 7137071642.9398\n",
      "Epoch 11/100\n",
      "7913/7913 [==============================] - 1s 69us/step - loss: 8459093713.2890 - val_loss: 35629449.0950\n",
      "Epoch 12/100\n",
      "7913/7913 [==============================] - 1s 66us/step - loss: 11669040865.7563 - val_loss: 430649521.8824\n",
      "Epoch 13/100\n",
      "7913/7913 [==============================] - 1s 68us/step - loss: 1217735419.7612 - val_loss: 8916993.8102\n",
      "Epoch 14/100\n",
      "7913/7913 [==============================] - 1s 66us/step - loss: 511477185.8699 - val_loss: 5444097.7450\n",
      "Epoch 15/100\n",
      "7913/7913 [==============================] - 1s 73us/step - loss: 271736534.8569 - val_loss: 152266100.4513\n",
      "Epoch 16/100\n",
      "7913/7913 [==============================] - 0s 62us/step - loss: 505825861.5350 - val_loss: 204438009.6344\n",
      "Epoch 17/100\n",
      "7913/7913 [==============================] - 1s 73us/step - loss: 1481720959.1284 - val_loss: 150816029.4781\n",
      "Epoch 18/100\n",
      "7913/7913 [==============================] - 1s 68us/step - loss: 360386914.2860 - val_loss: 252300467.6944\n",
      "Epoch 19/100\n",
      "7913/7913 [==============================] - 0s 62us/step - loss: 342907774.8832 - val_loss: 97302197.2568\n",
      "Epoch 20/100\n",
      "7913/7913 [==============================] - 1s 65us/step - loss: 178959777.9712 - val_loss: 6092162.0675\n",
      "Epoch 21/100\n",
      "7913/7913 [==============================] - 0s 63us/step - loss: 161469373.9007 - val_loss: 58387485.8238\n",
      "Epoch 22/100\n",
      "7913/7913 [==============================] - 1s 68us/step - loss: 75381219.1207 - val_loss: 37682394.8444\n",
      "Epoch 23/100\n",
      "7913/7913 [==============================] - 1s 67us/step - loss: 351590754.1301 - val_loss: 337221828.8075\n",
      "Epoch 24/100\n",
      "7913/7913 [==============================] - 1s 71us/step - loss: 169528017.9582 - val_loss: 1922348.4220\n",
      "Epoch 25/100\n",
      "7913/7913 [==============================] - 1s 67us/step - loss: 99570522.2799 - val_loss: 417587.4639\n",
      "Epoch 26/100\n",
      "7913/7913 [==============================] - 1s 66us/step - loss: 18060891.8488 - val_loss: 865877.8319\n",
      "Epoch 27/100\n",
      "7913/7913 [==============================] - 1s 68us/step - loss: 80969984.1743 - val_loss: 23015.8376\n",
      "Epoch 28/100\n",
      "7913/7913 [==============================] - 1s 70us/step - loss: 14082412.9160 - val_loss: 4553364.0374\n",
      "Epoch 29/100\n",
      "7913/7913 [==============================] - 1s 79us/step - loss: 24031583.6571 - val_loss: 193487.5235\n",
      "Epoch 30/100\n",
      "7913/7913 [==============================] - 1s 69us/step - loss: 30953810.4603 - val_loss: 929787.3478\n",
      "Epoch 31/100\n",
      "7913/7913 [==============================] - 1s 72us/step - loss: 6531274.3567 - val_loss: 6165.9340\n",
      "Epoch 32/100\n",
      "7913/7913 [==============================] - 1s 71us/step - loss: 6077903.8407 - val_loss: 50717.3933\n",
      "Epoch 33/100\n",
      "7913/7913 [==============================] - 1s 71us/step - loss: 930491.6318 - val_loss: 31769.1325\n",
      "Epoch 34/100\n",
      "7913/7913 [==============================] - 1s 66us/step - loss: 1045835.0202 - val_loss: 192.4710\n",
      "Epoch 35/100\n",
      "7913/7913 [==============================] - 1s 69us/step - loss: 428588.0209 - val_loss: 3346.4093\n",
      "Epoch 36/100\n",
      "7913/7913 [==============================] - 1s 65us/step - loss: 23206302.0264 - val_loss: 727783204.9476\n",
      "Epoch 37/100\n",
      "7913/7913 [==============================] - 1s 73us/step - loss: 1387099605.5657 - val_loss: 1100186007.2399\n",
      "Epoch 38/100\n",
      "7913/7913 [==============================] - 1s 69us/step - loss: 363918515.4941 - val_loss: 497667888.1054\n",
      "Epoch 39/100\n",
      "7913/7913 [==============================] - 1s 69us/step - loss: 436840020.6590 - val_loss: 198512489.1873\n",
      "Epoch 40/100\n",
      "7913/7913 [==============================] - 1s 70us/step - loss: 131663509.3702 - val_loss: 3554251.9035\n",
      "Epoch 41/100\n",
      "7913/7913 [==============================] - 1s 69us/step - loss: 205220637.3516 - val_loss: 26482630.2595\n",
      "Epoch 42/100\n",
      "7913/7913 [==============================] - 1s 73us/step - loss: 9638254.2407 - val_loss: 4259931.4367\n",
      "Epoch 43/100\n",
      "7913/7913 [==============================] - 1s 65us/step - loss: 2397974.0825 - val_loss: 5444.0520\n",
      "Epoch 44/100\n",
      "7913/7913 [==============================] - 1s 64us/step - loss: 5484926.9582 - val_loss: 2333063.4348\n",
      "Epoch 45/100\n",
      "7913/7913 [==============================] - 1s 74us/step - loss: 4153478.9744 - val_loss: 207.4473\n",
      "Epoch 46/100\n",
      "7913/7913 [==============================] - 1s 66us/step - loss: 1725451.5337 - val_loss: 31210.4793\n",
      "Epoch 47/100\n",
      "7913/7913 [==============================] - 1s 73us/step - loss: 685326.7426 - val_loss: 30589.2883\n",
      "Epoch 48/100\n",
      "7913/7913 [==============================] - 1s 70us/step - loss: 419236.9942 - val_loss: 217.2296\n",
      "Epoch 49/100\n",
      "7913/7913 [==============================] - 1s 67us/step - loss: 55859.6700 - val_loss: 246.2455\n",
      "Epoch 50/100\n",
      "7913/7913 [==============================] - 1s 74us/step - loss: 413646.6282 - val_loss: 52484.2032\n",
      "Epoch 51/100\n",
      "7913/7913 [==============================] - 1s 70us/step - loss: 126246.9069 - val_loss: 190.6216\n",
      "Epoch 52/100\n",
      "7913/7913 [==============================] - 1s 74us/step - loss: 1682.6631 - val_loss: 189.9781\n",
      "Epoch 53/100\n",
      "7913/7913 [==============================] - 1s 71us/step - loss: 4920.2425 - val_loss: 189.6141\n",
      "Epoch 54/100\n",
      "7913/7913 [==============================] - 1s 70us/step - loss: 810.5530 - val_loss: 189.2639\n",
      "Epoch 55/100\n",
      "7913/7913 [==============================] - 1s 70us/step - loss: 1090.2487 - val_loss: 188.5629\n",
      "Epoch 56/100\n",
      "7913/7913 [==============================] - 1s 72us/step - loss: 1480.6918 - val_loss: 187.9314\n",
      "Epoch 57/100\n",
      "7913/7913 [==============================] - 1s 71us/step - loss: 521.6623 - val_loss: 187.2268\n",
      "Epoch 58/100\n",
      "7913/7913 [==============================] - 1s 85us/step - loss: 653.2787 - val_loss: 186.3643\n",
      "Epoch 59/100\n",
      "7913/7913 [==============================] - 1s 84us/step - loss: 275.1716 - val_loss: 185.4867\n",
      "Epoch 60/100\n",
      "7913/7913 [==============================] - 1s 77us/step - loss: 122730.1716 - val_loss: 184.5206\n",
      "Epoch 61/100\n",
      "7913/7913 [==============================] - 1s 73us/step - loss: 713.0609 - val_loss: 183.8493\n",
      "Epoch 62/100\n",
      "7913/7913 [==============================] - 1s 71us/step - loss: 677.2373 - val_loss: 182.5711\n",
      "Epoch 63/100\n",
      "7913/7913 [==============================] - 1s 69us/step - loss: 1546.5388 - val_loss: 180.7825\n",
      "Epoch 64/100\n",
      "7913/7913 [==============================] - 1s 70us/step - loss: 381.1870 - val_loss: 178.8138\n",
      "Epoch 65/100\n",
      "7913/7913 [==============================] - 1s 71us/step - loss: 11371.1028 - val_loss: 176.6049\n",
      "Epoch 66/100\n",
      "7913/7913 [==============================] - 1s 67us/step - loss: 3256.4443 - val_loss: 174.4896\n",
      "Epoch 67/100\n",
      "7913/7913 [==============================] - 1s 73us/step - loss: 1054.0009 - val_loss: 171.8540\n",
      "Epoch 68/100\n",
      "7913/7913 [==============================] - 1s 77us/step - loss: 541.1645 - val_loss: 168.9545\n",
      "Epoch 69/100\n",
      "7913/7913 [==============================] - 1s 69us/step - loss: 21166.9755 - val_loss: 11450.8307\n",
      "Epoch 70/100\n",
      "7913/7913 [==============================] - 1s 70us/step - loss: 637390.2990 - val_loss: 164.1552\n",
      "Epoch 71/100\n"
     ]
    },
    {
     "name": "stdout",
     "output_type": "stream",
     "text": [
      "7913/7913 [==============================] - 1s 72us/step - loss: 658193.8174 - val_loss: 7684953475.5649\n",
      "Epoch 72/100\n",
      "7913/7913 [==============================] - 1s 72us/step - loss: 344968328.0729 - val_loss: 10151767.4031\n",
      "Epoch 73/100\n",
      "7913/7913 [==============================] - 1s 68us/step - loss: 22553492.6618 - val_loss: 27768629.5863\n",
      "Epoch 74/100\n",
      "7913/7913 [==============================] - 1s 69us/step - loss: 185116979.1152 - val_loss: 28277530.2369\n",
      "Epoch 75/100\n",
      "7913/7913 [==============================] - 1s 68us/step - loss: 13618910745.0157 - val_loss: 1602614352.9680\n",
      "Epoch 76/100\n",
      "7913/7913 [==============================] - 1s 76us/step - loss: 1307414692.1469 - val_loss: 21653285.0909\n",
      "Epoch 77/100\n",
      "7913/7913 [==============================] - 1s 72us/step - loss: 626696667.6490 - val_loss: 13747858.8252\n",
      "Epoch 78/100\n",
      "7913/7913 [==============================] - 1s 68us/step - loss: 138012944.1040 - val_loss: 36889051.2913\n",
      "Epoch 79/100\n",
      "7913/7913 [==============================] - 1s 68us/step - loss: 250951890.9152 - val_loss: 14215460.1959\n",
      "Epoch 80/100\n",
      "7913/7913 [==============================] - 1s 73us/step - loss: 120544273.2979 - val_loss: 24019982.5336\n",
      "Epoch 81/100\n",
      "7913/7913 [==============================] - 1s 73us/step - loss: 73826986.8777 - val_loss: 29426365.5858\n",
      "Epoch 82/100\n",
      "7913/7913 [==============================] - 1s 67us/step - loss: 36858091.5217 - val_loss: 2026370.0554\n",
      "Epoch 83/100\n",
      "7913/7913 [==============================] - 1s 68us/step - loss: 25768533.5771 - val_loss: 12888933.9705\n",
      "Epoch 84/100\n",
      "7913/7913 [==============================] - 1s 73us/step - loss: 215889404.7647 - val_loss: 12916688.9750\n",
      "Epoch 85/100\n",
      "7913/7913 [==============================] - 1s 71us/step - loss: 58167222.8974 - val_loss: 6509267.7713\n",
      "Epoch 86/100\n",
      "7913/7913 [==============================] - 1s 72us/step - loss: 68092469.3434 - val_loss: 136889.8728\n",
      "Epoch 87/100\n",
      "7913/7913 [==============================] - 1s 81us/step - loss: 10899527.5054 - val_loss: 687.6189\n",
      "Epoch 88/100\n",
      "7913/7913 [==============================] - 1s 70us/step - loss: 5127988.6806 - val_loss: 6035.6793\n",
      "Epoch 89/100\n",
      "7913/7913 [==============================] - 1s 70us/step - loss: 27886936.4887 - val_loss: 7994874.1877\n",
      "Epoch 90/100\n",
      "7913/7913 [==============================] - 1s 73us/step - loss: 217976509.6523 - val_loss: 146447.8715\n",
      "Epoch 91/100\n",
      "7913/7913 [==============================] - 1s 69us/step - loss: 129293090.9034 - val_loss: 404957.9396\n",
      "Epoch 92/100\n",
      "7913/7913 [==============================] - 1s 76us/step - loss: 38694882.3972 - val_loss: 3539940.3768\n",
      "Epoch 93/100\n",
      "7913/7913 [==============================] - 1s 80us/step - loss: 36872434.1614 - val_loss: 602680.9918\n",
      "Epoch 94/100\n",
      "7913/7913 [==============================] - 1s 78us/step - loss: 19033036.8563 - val_loss: 4871.4281\n",
      "Epoch 95/100\n",
      "7913/7913 [==============================] - 1s 70us/step - loss: 5216374.4632 - val_loss: 163.6024\n",
      "Epoch 96/100\n",
      "7913/7913 [==============================] - 1s 67us/step - loss: 21971193.1753 - val_loss: 549033.3643\n",
      "Epoch 97/100\n",
      "7913/7913 [==============================] - 0s 58us/step - loss: 2075248.8420 - val_loss: 163.4050\n",
      "Epoch 98/100\n",
      "7913/7913 [==============================] - 0s 61us/step - loss: 88208.3624 - val_loss: 163.2825\n",
      "Epoch 99/100\n",
      "7913/7913 [==============================] - 0s 63us/step - loss: 10101744.3593 - val_loss: 163.1317\n",
      "Epoch 100/100\n",
      "7913/7913 [==============================] - 1s 64us/step - loss: 16338497.3250 - val_loss: 163.1693\n"
     ]
    },
    {
     "data": {
      "text/plain": [
       "<keras.callbacks.History at 0x1a2ddf5ba8>"
      ]
     },
     "execution_count": 196,
     "metadata": {},
     "output_type": "execute_result"
    }
   ],
   "source": [
    "model.fit(X_train_for_keras, y_train_for_keras, nb_epoch=100, batch_size=16, validation_split=0.1)\n"
   ]
  },
  {
   "cell_type": "markdown",
   "metadata": {},
   "source": [
    "Keras would need some more work to choose a stable NN architecture"
   ]
  },
  {
   "cell_type": "code",
   "execution_count": null,
   "metadata": {},
   "outputs": [],
   "source": []
  }
 ],
 "metadata": {
  "kernelspec": {
   "display_name": "Python 3",
   "language": "python",
   "name": "python3"
  },
  "language_info": {
   "codemirror_mode": {
    "name": "ipython",
    "version": 3
   },
   "file_extension": ".py",
   "mimetype": "text/x-python",
   "name": "python",
   "nbconvert_exporter": "python",
   "pygments_lexer": "ipython3",
   "version": "3.6.5"
  }
 },
 "nbformat": 4,
 "nbformat_minor": 2
}
